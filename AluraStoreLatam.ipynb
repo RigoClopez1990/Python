{
  "nbformat": 4,
  "nbformat_minor": 0,
  "metadata": {
    "colab": {
      "provenance": []
    },
    "kernelspec": {
      "name": "python3",
      "display_name": "Python 3"
    },
    "language_info": {
      "name": "python"
    }
  },
  "cells": [
    {
      "cell_type": "markdown",
      "source": [
        "### Importación de datos\n",
        "\n"
      ],
      "metadata": {
        "id": "RhEdWd9YUR6H"
      }
    },
    {
      "cell_type": "code",
      "execution_count": 43,
      "metadata": {
        "colab": {
          "base_uri": "https://localhost:8080/",
          "height": 206
        },
        "id": "T3EvaeQ_INIL",
        "outputId": "4374489e-dc18-4b89-b76d-7fbde3388681"
      },
      "outputs": [
        {
          "output_type": "execute_result",
          "data": {
            "text/plain": [
              "            Producto Categoría del Producto    Precio  Costo de envío  \\\n",
              "0  Asistente virtual           Electrónicos  164300.0          6900.0   \n",
              "1    Mesa de comedor                Muebles  192300.0          8400.0   \n",
              "2      Juego de mesa               Juguetes  209600.0         15900.0   \n",
              "3         Microondas      Electrodomésticos  757500.0         41000.0   \n",
              "4   Silla de oficina                Muebles  335200.0         20200.0   \n",
              "\n",
              "  Fecha de Compra         Vendedor Lugar de Compra  Calificación  \\\n",
              "0      16/01/2021      Pedro Gomez          Bogotá             4   \n",
              "1      18/05/2022  Beatriz Morales        Medellín             1   \n",
              "2      15/03/2021   Juan Fernandez       Cartagena             1   \n",
              "3      03/05/2022   Juan Fernandez            Cali             4   \n",
              "4      07/11/2020    Maria Alfonso        Medellín             5   \n",
              "\n",
              "       Método de pago  Cantidad de cuotas       lat       lon  \n",
              "0  Tarjeta de crédito                   8   4.60971 -74.08175  \n",
              "1  Tarjeta de crédito                   4   6.25184 -75.56359  \n",
              "2  Tarjeta de crédito                   1  10.39972 -75.51444  \n",
              "3               Nequi                   1   3.43722 -76.52250  \n",
              "4               Nequi                   1   6.25184 -75.56359  "
            ],
            "text/html": [
              "\n",
              "  <div id=\"df-2f9d1b91-d8fa-4fbe-8940-067fccf29563\" class=\"colab-df-container\">\n",
              "    <div>\n",
              "<style scoped>\n",
              "    .dataframe tbody tr th:only-of-type {\n",
              "        vertical-align: middle;\n",
              "    }\n",
              "\n",
              "    .dataframe tbody tr th {\n",
              "        vertical-align: top;\n",
              "    }\n",
              "\n",
              "    .dataframe thead th {\n",
              "        text-align: right;\n",
              "    }\n",
              "</style>\n",
              "<table border=\"1\" class=\"dataframe\">\n",
              "  <thead>\n",
              "    <tr style=\"text-align: right;\">\n",
              "      <th></th>\n",
              "      <th>Producto</th>\n",
              "      <th>Categoría del Producto</th>\n",
              "      <th>Precio</th>\n",
              "      <th>Costo de envío</th>\n",
              "      <th>Fecha de Compra</th>\n",
              "      <th>Vendedor</th>\n",
              "      <th>Lugar de Compra</th>\n",
              "      <th>Calificación</th>\n",
              "      <th>Método de pago</th>\n",
              "      <th>Cantidad de cuotas</th>\n",
              "      <th>lat</th>\n",
              "      <th>lon</th>\n",
              "    </tr>\n",
              "  </thead>\n",
              "  <tbody>\n",
              "    <tr>\n",
              "      <th>0</th>\n",
              "      <td>Asistente virtual</td>\n",
              "      <td>Electrónicos</td>\n",
              "      <td>164300.0</td>\n",
              "      <td>6900.0</td>\n",
              "      <td>16/01/2021</td>\n",
              "      <td>Pedro Gomez</td>\n",
              "      <td>Bogotá</td>\n",
              "      <td>4</td>\n",
              "      <td>Tarjeta de crédito</td>\n",
              "      <td>8</td>\n",
              "      <td>4.60971</td>\n",
              "      <td>-74.08175</td>\n",
              "    </tr>\n",
              "    <tr>\n",
              "      <th>1</th>\n",
              "      <td>Mesa de comedor</td>\n",
              "      <td>Muebles</td>\n",
              "      <td>192300.0</td>\n",
              "      <td>8400.0</td>\n",
              "      <td>18/05/2022</td>\n",
              "      <td>Beatriz Morales</td>\n",
              "      <td>Medellín</td>\n",
              "      <td>1</td>\n",
              "      <td>Tarjeta de crédito</td>\n",
              "      <td>4</td>\n",
              "      <td>6.25184</td>\n",
              "      <td>-75.56359</td>\n",
              "    </tr>\n",
              "    <tr>\n",
              "      <th>2</th>\n",
              "      <td>Juego de mesa</td>\n",
              "      <td>Juguetes</td>\n",
              "      <td>209600.0</td>\n",
              "      <td>15900.0</td>\n",
              "      <td>15/03/2021</td>\n",
              "      <td>Juan Fernandez</td>\n",
              "      <td>Cartagena</td>\n",
              "      <td>1</td>\n",
              "      <td>Tarjeta de crédito</td>\n",
              "      <td>1</td>\n",
              "      <td>10.39972</td>\n",
              "      <td>-75.51444</td>\n",
              "    </tr>\n",
              "    <tr>\n",
              "      <th>3</th>\n",
              "      <td>Microondas</td>\n",
              "      <td>Electrodomésticos</td>\n",
              "      <td>757500.0</td>\n",
              "      <td>41000.0</td>\n",
              "      <td>03/05/2022</td>\n",
              "      <td>Juan Fernandez</td>\n",
              "      <td>Cali</td>\n",
              "      <td>4</td>\n",
              "      <td>Nequi</td>\n",
              "      <td>1</td>\n",
              "      <td>3.43722</td>\n",
              "      <td>-76.52250</td>\n",
              "    </tr>\n",
              "    <tr>\n",
              "      <th>4</th>\n",
              "      <td>Silla de oficina</td>\n",
              "      <td>Muebles</td>\n",
              "      <td>335200.0</td>\n",
              "      <td>20200.0</td>\n",
              "      <td>07/11/2020</td>\n",
              "      <td>Maria Alfonso</td>\n",
              "      <td>Medellín</td>\n",
              "      <td>5</td>\n",
              "      <td>Nequi</td>\n",
              "      <td>1</td>\n",
              "      <td>6.25184</td>\n",
              "      <td>-75.56359</td>\n",
              "    </tr>\n",
              "  </tbody>\n",
              "</table>\n",
              "</div>\n",
              "    <div class=\"colab-df-buttons\">\n",
              "\n",
              "  <div class=\"colab-df-container\">\n",
              "    <button class=\"colab-df-convert\" onclick=\"convertToInteractive('df-2f9d1b91-d8fa-4fbe-8940-067fccf29563')\"\n",
              "            title=\"Convert this dataframe to an interactive table.\"\n",
              "            style=\"display:none;\">\n",
              "\n",
              "  <svg xmlns=\"http://www.w3.org/2000/svg\" height=\"24px\" viewBox=\"0 -960 960 960\">\n",
              "    <path d=\"M120-120v-720h720v720H120Zm60-500h600v-160H180v160Zm220 220h160v-160H400v160Zm0 220h160v-160H400v160ZM180-400h160v-160H180v160Zm440 0h160v-160H620v160ZM180-180h160v-160H180v160Zm440 0h160v-160H620v160Z\"/>\n",
              "  </svg>\n",
              "    </button>\n",
              "\n",
              "  <style>\n",
              "    .colab-df-container {\n",
              "      display:flex;\n",
              "      gap: 12px;\n",
              "    }\n",
              "\n",
              "    .colab-df-convert {\n",
              "      background-color: #E8F0FE;\n",
              "      border: none;\n",
              "      border-radius: 50%;\n",
              "      cursor: pointer;\n",
              "      display: none;\n",
              "      fill: #1967D2;\n",
              "      height: 32px;\n",
              "      padding: 0 0 0 0;\n",
              "      width: 32px;\n",
              "    }\n",
              "\n",
              "    .colab-df-convert:hover {\n",
              "      background-color: #E2EBFA;\n",
              "      box-shadow: 0px 1px 2px rgba(60, 64, 67, 0.3), 0px 1px 3px 1px rgba(60, 64, 67, 0.15);\n",
              "      fill: #174EA6;\n",
              "    }\n",
              "\n",
              "    .colab-df-buttons div {\n",
              "      margin-bottom: 4px;\n",
              "    }\n",
              "\n",
              "    [theme=dark] .colab-df-convert {\n",
              "      background-color: #3B4455;\n",
              "      fill: #D2E3FC;\n",
              "    }\n",
              "\n",
              "    [theme=dark] .colab-df-convert:hover {\n",
              "      background-color: #434B5C;\n",
              "      box-shadow: 0px 1px 3px 1px rgba(0, 0, 0, 0.15);\n",
              "      filter: drop-shadow(0px 1px 2px rgba(0, 0, 0, 0.3));\n",
              "      fill: #FFFFFF;\n",
              "    }\n",
              "  </style>\n",
              "\n",
              "    <script>\n",
              "      const buttonEl =\n",
              "        document.querySelector('#df-2f9d1b91-d8fa-4fbe-8940-067fccf29563 button.colab-df-convert');\n",
              "      buttonEl.style.display =\n",
              "        google.colab.kernel.accessAllowed ? 'block' : 'none';\n",
              "\n",
              "      async function convertToInteractive(key) {\n",
              "        const element = document.querySelector('#df-2f9d1b91-d8fa-4fbe-8940-067fccf29563');\n",
              "        const dataTable =\n",
              "          await google.colab.kernel.invokeFunction('convertToInteractive',\n",
              "                                                    [key], {});\n",
              "        if (!dataTable) return;\n",
              "\n",
              "        const docLinkHtml = 'Like what you see? Visit the ' +\n",
              "          '<a target=\"_blank\" href=https://colab.research.google.com/notebooks/data_table.ipynb>data table notebook</a>'\n",
              "          + ' to learn more about interactive tables.';\n",
              "        element.innerHTML = '';\n",
              "        dataTable['output_type'] = 'display_data';\n",
              "        await google.colab.output.renderOutput(dataTable, element);\n",
              "        const docLink = document.createElement('div');\n",
              "        docLink.innerHTML = docLinkHtml;\n",
              "        element.appendChild(docLink);\n",
              "      }\n",
              "    </script>\n",
              "  </div>\n",
              "\n",
              "\n",
              "<div id=\"df-1ff4935e-5a18-4366-9473-789a34afddeb\">\n",
              "  <button class=\"colab-df-quickchart\" onclick=\"quickchart('df-1ff4935e-5a18-4366-9473-789a34afddeb')\"\n",
              "            title=\"Suggest charts\"\n",
              "            style=\"display:none;\">\n",
              "\n",
              "<svg xmlns=\"http://www.w3.org/2000/svg\" height=\"24px\"viewBox=\"0 0 24 24\"\n",
              "     width=\"24px\">\n",
              "    <g>\n",
              "        <path d=\"M19 3H5c-1.1 0-2 .9-2 2v14c0 1.1.9 2 2 2h14c1.1 0 2-.9 2-2V5c0-1.1-.9-2-2-2zM9 17H7v-7h2v7zm4 0h-2V7h2v10zm4 0h-2v-4h2v4z\"/>\n",
              "    </g>\n",
              "</svg>\n",
              "  </button>\n",
              "\n",
              "<style>\n",
              "  .colab-df-quickchart {\n",
              "      --bg-color: #E8F0FE;\n",
              "      --fill-color: #1967D2;\n",
              "      --hover-bg-color: #E2EBFA;\n",
              "      --hover-fill-color: #174EA6;\n",
              "      --disabled-fill-color: #AAA;\n",
              "      --disabled-bg-color: #DDD;\n",
              "  }\n",
              "\n",
              "  [theme=dark] .colab-df-quickchart {\n",
              "      --bg-color: #3B4455;\n",
              "      --fill-color: #D2E3FC;\n",
              "      --hover-bg-color: #434B5C;\n",
              "      --hover-fill-color: #FFFFFF;\n",
              "      --disabled-bg-color: #3B4455;\n",
              "      --disabled-fill-color: #666;\n",
              "  }\n",
              "\n",
              "  .colab-df-quickchart {\n",
              "    background-color: var(--bg-color);\n",
              "    border: none;\n",
              "    border-radius: 50%;\n",
              "    cursor: pointer;\n",
              "    display: none;\n",
              "    fill: var(--fill-color);\n",
              "    height: 32px;\n",
              "    padding: 0;\n",
              "    width: 32px;\n",
              "  }\n",
              "\n",
              "  .colab-df-quickchart:hover {\n",
              "    background-color: var(--hover-bg-color);\n",
              "    box-shadow: 0 1px 2px rgba(60, 64, 67, 0.3), 0 1px 3px 1px rgba(60, 64, 67, 0.15);\n",
              "    fill: var(--button-hover-fill-color);\n",
              "  }\n",
              "\n",
              "  .colab-df-quickchart-complete:disabled,\n",
              "  .colab-df-quickchart-complete:disabled:hover {\n",
              "    background-color: var(--disabled-bg-color);\n",
              "    fill: var(--disabled-fill-color);\n",
              "    box-shadow: none;\n",
              "  }\n",
              "\n",
              "  .colab-df-spinner {\n",
              "    border: 2px solid var(--fill-color);\n",
              "    border-color: transparent;\n",
              "    border-bottom-color: var(--fill-color);\n",
              "    animation:\n",
              "      spin 1s steps(1) infinite;\n",
              "  }\n",
              "\n",
              "  @keyframes spin {\n",
              "    0% {\n",
              "      border-color: transparent;\n",
              "      border-bottom-color: var(--fill-color);\n",
              "      border-left-color: var(--fill-color);\n",
              "    }\n",
              "    20% {\n",
              "      border-color: transparent;\n",
              "      border-left-color: var(--fill-color);\n",
              "      border-top-color: var(--fill-color);\n",
              "    }\n",
              "    30% {\n",
              "      border-color: transparent;\n",
              "      border-left-color: var(--fill-color);\n",
              "      border-top-color: var(--fill-color);\n",
              "      border-right-color: var(--fill-color);\n",
              "    }\n",
              "    40% {\n",
              "      border-color: transparent;\n",
              "      border-right-color: var(--fill-color);\n",
              "      border-top-color: var(--fill-color);\n",
              "    }\n",
              "    60% {\n",
              "      border-color: transparent;\n",
              "      border-right-color: var(--fill-color);\n",
              "    }\n",
              "    80% {\n",
              "      border-color: transparent;\n",
              "      border-right-color: var(--fill-color);\n",
              "      border-bottom-color: var(--fill-color);\n",
              "    }\n",
              "    90% {\n",
              "      border-color: transparent;\n",
              "      border-bottom-color: var(--fill-color);\n",
              "    }\n",
              "  }\n",
              "</style>\n",
              "\n",
              "  <script>\n",
              "    async function quickchart(key) {\n",
              "      const quickchartButtonEl =\n",
              "        document.querySelector('#' + key + ' button');\n",
              "      quickchartButtonEl.disabled = true;  // To prevent multiple clicks.\n",
              "      quickchartButtonEl.classList.add('colab-df-spinner');\n",
              "      try {\n",
              "        const charts = await google.colab.kernel.invokeFunction(\n",
              "            'suggestCharts', [key], {});\n",
              "      } catch (error) {\n",
              "        console.error('Error during call to suggestCharts:', error);\n",
              "      }\n",
              "      quickchartButtonEl.classList.remove('colab-df-spinner');\n",
              "      quickchartButtonEl.classList.add('colab-df-quickchart-complete');\n",
              "    }\n",
              "    (() => {\n",
              "      let quickchartButtonEl =\n",
              "        document.querySelector('#df-1ff4935e-5a18-4366-9473-789a34afddeb button');\n",
              "      quickchartButtonEl.style.display =\n",
              "        google.colab.kernel.accessAllowed ? 'block' : 'none';\n",
              "    })();\n",
              "  </script>\n",
              "</div>\n",
              "\n",
              "    </div>\n",
              "  </div>\n"
            ],
            "application/vnd.google.colaboratory.intrinsic+json": {
              "type": "dataframe",
              "variable_name": "tienda",
              "summary": "{\n  \"name\": \"tienda\",\n  \"rows\": 2359,\n  \"fields\": [\n    {\n      \"column\": \"Producto\",\n      \"properties\": {\n        \"dtype\": \"category\",\n        \"num_unique_values\": 51,\n        \"samples\": [\n          \"Guitarra ac\\u00fastica\",\n          \"Bal\\u00f3n de baloncesto\",\n          \"Smartwatch\"\n        ],\n        \"semantic_type\": \"\",\n        \"description\": \"\"\n      }\n    },\n    {\n      \"column\": \"Categor\\u00eda del Producto\",\n      \"properties\": {\n        \"dtype\": \"category\",\n        \"num_unique_values\": 8,\n        \"samples\": [\n          \"Muebles\",\n          \"Deportes y diversi\\u00f3n\",\n          \"Electr\\u00f3nicos\"\n        ],\n        \"semantic_type\": \"\",\n        \"description\": \"\"\n      }\n    },\n    {\n      \"column\": \"Precio\",\n      \"properties\": {\n        \"dtype\": \"number\",\n        \"std\": 614686.7653873172,\n        \"min\": 7600.0,\n        \"max\": 2977000.0,\n        \"num_unique_values\": 1937,\n        \"samples\": [\n          2499400.0,\n          14800.0,\n          80500.0\n        ],\n        \"semantic_type\": \"\",\n        \"description\": \"\"\n      }\n    },\n    {\n      \"column\": \"Costo de env\\u00edo\",\n      \"properties\": {\n        \"dtype\": \"number\",\n        \"std\": 32860.0017825605,\n        \"min\": 0.0,\n        \"max\": 160800.0,\n        \"num_unique_values\": 753,\n        \"samples\": [\n          117800.0,\n          54700.0,\n          45600.0\n        ],\n        \"semantic_type\": \"\",\n        \"description\": \"\"\n      }\n    },\n    {\n      \"column\": \"Fecha de Compra\",\n      \"properties\": {\n        \"dtype\": \"object\",\n        \"num_unique_values\": 1018,\n        \"samples\": [\n          \"15/09/2022\",\n          \"03/06/2020\",\n          \"06/11/2021\"\n        ],\n        \"semantic_type\": \"\",\n        \"description\": \"\"\n      }\n    },\n    {\n      \"column\": \"Vendedor\",\n      \"properties\": {\n        \"dtype\": \"category\",\n        \"num_unique_values\": 14,\n        \"samples\": [\n          \"Juliana Costa\",\n          \"Mariana Herrera\",\n          \"Pedro Gomez\"\n        ],\n        \"semantic_type\": \"\",\n        \"description\": \"\"\n      }\n    },\n    {\n      \"column\": \"Lugar de Compra\",\n      \"properties\": {\n        \"dtype\": \"category\",\n        \"num_unique_values\": 19,\n        \"samples\": [\n          \"Bogot\\u00e1\",\n          \"Pereira\",\n          \"Neiva\"\n        ],\n        \"semantic_type\": \"\",\n        \"description\": \"\"\n      }\n    },\n    {\n      \"column\": \"Calificaci\\u00f3n\",\n      \"properties\": {\n        \"dtype\": \"number\",\n        \"std\": 1,\n        \"min\": 1,\n        \"max\": 5,\n        \"num_unique_values\": 5,\n        \"samples\": [\n          1,\n          2,\n          5\n        ],\n        \"semantic_type\": \"\",\n        \"description\": \"\"\n      }\n    },\n    {\n      \"column\": \"M\\u00e9todo de pago\",\n      \"properties\": {\n        \"dtype\": \"category\",\n        \"num_unique_values\": 4,\n        \"samples\": [\n          \"Nequi\",\n          \"Tarjeta de d\\u00e9bito\",\n          \"Tarjeta de cr\\u00e9dito\"\n        ],\n        \"semantic_type\": \"\",\n        \"description\": \"\"\n      }\n    },\n    {\n      \"column\": \"Cantidad de cuotas\",\n      \"properties\": {\n        \"dtype\": \"number\",\n        \"std\": 2,\n        \"min\": 1,\n        \"max\": 24,\n        \"num_unique_values\": 15,\n        \"samples\": [\n          7,\n          14,\n          8\n        ],\n        \"semantic_type\": \"\",\n        \"description\": \"\"\n      }\n    },\n    {\n      \"column\": \"lat\",\n      \"properties\": {\n        \"dtype\": \"number\",\n        \"std\": 2.2874452492678627,\n        \"min\": -4.21528,\n        \"max\": 11.54444,\n        \"num_unique_values\": 19,\n        \"samples\": [\n          4.60971,\n          4.81333,\n          2.9273\n        ],\n        \"semantic_type\": \"\",\n        \"description\": \"\"\n      }\n    },\n    {\n      \"column\": \"lon\",\n      \"properties\": {\n        \"dtype\": \"number\",\n        \"std\": 1.2178272727088486,\n        \"min\": -77.28111,\n        \"max\": -67.9239,\n        \"num_unique_values\": 19,\n        \"samples\": [\n          -74.08175,\n          -75.69611,\n          -75.28189\n        ],\n        \"semantic_type\": \"\",\n        \"description\": \"\"\n      }\n    }\n  ]\n}"
            }
          },
          "metadata": {},
          "execution_count": 43
        }
      ],
      "source": [
        "import pandas as pd\n",
        "\n",
        "url = \"https://raw.githubusercontent.com/alura-es-cursos/challenge1-data-science-latam/refs/heads/main/base-de-datos-challenge1-latam/tienda_1%20.csv\"\n",
        "url2 = \"https://raw.githubusercontent.com/alura-es-cursos/challenge1-data-science-latam/refs/heads/main/base-de-datos-challenge1-latam/tienda_2.csv\"\n",
        "url3 = \"https://raw.githubusercontent.com/alura-es-cursos/challenge1-data-science-latam/refs/heads/main/base-de-datos-challenge1-latam/tienda_3.csv\"\n",
        "url4 = \"https://raw.githubusercontent.com/alura-es-cursos/challenge1-data-science-latam/refs/heads/main/base-de-datos-challenge1-latam/tienda_4.csv\"\n",
        "\n",
        "tienda = pd.read_csv(url)\n",
        "tienda2 = pd.read_csv(url2)\n",
        "tienda3 = pd.read_csv(url3)\n",
        "tienda4 = pd.read_csv(url4)\n",
        "\n",
        "tienda.head()\n",
        "\n"
      ]
    },
    {
      "cell_type": "code",
      "source": [
        "#tienda2.head()"
      ],
      "metadata": {
        "id": "771JHqmxgSMv"
      },
      "execution_count": 37,
      "outputs": []
    },
    {
      "cell_type": "code",
      "source": [
        "#tienda3.head()"
      ],
      "metadata": {
        "id": "PgX7mUKWgVN8"
      },
      "execution_count": 38,
      "outputs": []
    },
    {
      "cell_type": "code",
      "source": [
        "#tienda4.head()"
      ],
      "metadata": {
        "id": "CG0wpMwngcFB"
      },
      "execution_count": 39,
      "outputs": []
    },
    {
      "cell_type": "markdown",
      "source": [
        "#1. Análisis de facturación\n",
        "\n"
      ],
      "metadata": {
        "id": "X62IW3KFUIYm"
      }
    },
    {
      "cell_type": "code",
      "source": [
        "#En este primer análisis, debes calcular el ingreso total de cada tienda.\n",
        "#Sumando los valores de la columna Precio de cada conjunto de datos de la tienda para estimar los ingresos.\n",
        "\n",
        "ventas_tienda = tienda[\"Precio\"].sum()\n",
        "ventas_tienda2 = tienda2[\"Precio\"].sum()\n",
        "ventas_tienda3 = tienda2[\"Precio\"].sum()\n",
        "ventas_tienda4 = tienda4[\"Precio\"].sum()\n",
        "\n",
        "print(\"Las ventas de tienda #1 son de ${:,}\".format(ventas_tienda))\n",
        "print(\"Las ventas de tienda #2 son de ${:,}\".format(ventas_tienda2))\n",
        "print(\"Las ventas de tienda #3 son de ${:,}\".format(ventas_tienda3))\n",
        "print(\"Las ventas de tienda #4 son de ${:,}\".format(ventas_tienda4))\n",
        "\n",
        "ventas = (ventas_tienda,ventas_tienda2,ventas_tienda3,ventas_tienda4)\n",
        "mayores_ventas = max(ventas)\n",
        "posicion = [\"Tienda 1\",\"Tienda 2\", \"Tienda 3\",\"Tienda 4\"]\n",
        "menores_ventas = min(ventas)\n",
        "\n",
        "tienda_mayor = ventas.index(mayores_ventas)\n",
        "tienda_menor = ventas.index(menores_ventas)\n",
        "print(\"La tienda con mayores ventas es la {}.\".format(posicion[tienda_mayor]))\n",
        "print(\"La tienda con menores ventas es la {}.\".format(posicion[tienda_menor]))\n"
      ],
      "metadata": {
        "id": "xykobSftV64I",
        "colab": {
          "base_uri": "https://localhost:8080/"
        },
        "outputId": "7490552a-8305-4707-f79e-a225d73849ef"
      },
      "execution_count": 93,
      "outputs": [
        {
          "output_type": "stream",
          "name": "stdout",
          "text": [
            "Las ventas de tienda #1 son de $1,150,880,400.0\n",
            "Las ventas de tienda #2 son de $1,116,343,500.0\n",
            "Las ventas de tienda #3 son de $1,116,343,500.0\n",
            "Las ventas de tienda #4 son de $1,038,375,700.0\n",
            "La tienda con mayores ventas es la Tienda 1.\n",
            "La tienda con menores ventas es la Tienda 4.\n"
          ]
        }
      ]
    },
    {
      "cell_type": "code",
      "source": [
        "#Graficando el total de ventas por tienda.\n",
        "\n",
        "from matplotlib import pyplot as plt\n",
        "\n",
        "tiendas =[\"Tienda 1\",\"Tienda 2\", \"Tienda 3\",\"Tienda 4\"]\n",
        "ventas = [ventas_tienda,ventas_tienda2,ventas_tienda3,ventas_tienda4]\n",
        "\n",
        "for i, total in enumerate(ventas):\n",
        "    plt.text(i, total + max(ventas)*0.01, f\"${total:,.0f}\", ha='center', va='bottom')\n",
        "\n",
        "\n",
        "plt.ylim(0, max(ventas) * 1.15)  # Sube un poco el límite superior del eje Y\n",
        "plt.bar(tiendas, ventas, color='skyblue', edgecolor='black')\n",
        "plt.title(\"Ventas por Tienda\")\n",
        "plt.ylabel(\"Cantidad Vendida\")\n",
        "plt.show()\n",
        "\n",
        "\n"
      ],
      "metadata": {
        "id": "KDyr8E71V3m-",
        "colab": {
          "base_uri": "https://localhost:8080/",
          "height": 452
        },
        "outputId": "e1ee9de5-88a8-4e1a-e19f-aa6199080d2d"
      },
      "execution_count": 102,
      "outputs": [
        {
          "output_type": "display_data",
          "data": {
            "text/plain": [
              "<Figure size 640x480 with 1 Axes>"
            ],
            "image/png": "[encoded data removed]"
          },
          "metadata": {}
        }
      ]
    },
    {
      "cell_type": "code",
      "source": [],
      "metadata": {
        "id": "UnXXVdS2f3Sm"
      },
      "execution_count": 41,
      "outputs": []
    },
    {
      "cell_type": "markdown",
      "source": [
        "# 2. Ventas por categoría"
      ],
      "metadata": {
        "id": "2V_vcAPzWZmR"
      }
    },
    {
      "cell_type": "code",
      "source": [
        "# En este debes calcular la cantidad de productos vendidos por categoría en cada tienda.\n",
        "# La idea es agrupar los datos por categoría y contar el número de ventas de cada tipo,\n",
        "# mostrando las categorías más populares de cada tienda.\n",
        "\n",
        "# Contando el total de ventas por categoria de producto.\n",
        "\n",
        "#Tienda 1\n",
        "\n",
        "ventas_por_categoria = tienda.groupby(\"Categoría del Producto\")[\"Precio\"].count()\n",
        "ventas_formateadas = ventas_por_categoria.apply(lambda x: f\"{x:,.0f}\")\n",
        "print(ventas_formateadas)\n",
        "\n",
        "categoria_max = ventas_por_categoria.idxmax()\n",
        "categoria_min = ventas_por_categoria.idxmin()\n",
        "\n",
        "venta_max = ventas_por_categoria.max()\n",
        "venta_min = ventas_por_categoria.min()\n",
        "\n",
        "venta_max_formateada = f\"{venta_max:,}\"\n",
        "venta_min_formateada = f\"{venta_min:,}\"\n",
        "\n",
        "print(f\"La categoría con más ventas para la tienda #1 es '{categoria_max}' con un total de {venta_max_formateada} ventas.\")\n",
        "print(f\"La categoría con menos ventas para la tienda #1 es '{categoria_min}' con un total de {venta_min_formateada} ventas.\")\n",
        "\n",
        "#Tienda 2\n",
        "\n",
        "ventas_por_categoria2 = tienda2.groupby(\"Categoría del Producto\")[\"Precio\"].count()\n",
        "ventas_formateadas2 = ventas_por_categoria2.apply(lambda x: f\"{x:,.0f}\")\n",
        "print(ventas_formateadas2)\n",
        "\n",
        "categoria_max2 = ventas_por_categoria2.idxmax()\n",
        "categoria_min2 = ventas_por_categoria2.idxmin()\n",
        "\n",
        "venta_max2 = ventas_por_categoria2.max()\n",
        "venta_min2 = ventas_por_categoria2.min()\n",
        "\n",
        "venta_max_formateada2 = f\"{venta_max2:,}\"\n",
        "venta_min_formateada2 = f\"{venta_min2:,}\"\n",
        "\n",
        "print(f\"La categoría con más ventas para la tienda #2 es '{categoria_max2}' con un total de {venta_max_formateada2} ventas.\")\n",
        "print(f\"La categoría con menos ventas para la tienda #2 es '{categoria_min2}' con un total de {venta_min_formateada2} ventas.\")\n",
        "\n",
        "#Tienda 3\n",
        "\n",
        "ventas_por_categoria3 = tienda3.groupby(\"Categoría del Producto\")[\"Precio\"].count()\n",
        "ventas_formateadas3 = ventas_por_categoria3.apply(lambda x: f\"{x:,.0f}\")\n",
        "print(ventas_formateadas3)\n",
        "\n",
        "categoria_max3 = ventas_por_categoria3.idxmax()\n",
        "categoria_min3 = ventas_por_categoria3.idxmin()\n",
        "\n",
        "venta_max3 = ventas_por_categoria3.max()\n",
        "venta_min3 = ventas_por_categoria3.min()\n",
        "\n",
        "venta_max_formateada3 = f\"{venta_max3:,}\"\n",
        "venta_min_formateada3 = f\"{venta_min3:,}\"\n",
        "\n",
        "print(f\"La categoría con más ventas para la tienda #3 es '{categoria_max3}' con un total de {venta_max_formateada3} ventas.\")\n",
        "print(f\"La categoría con menos ventas para la tienda #3 es '{categoria_min3}' con un total de {venta_min_formateada3} ventas.\")\n",
        "\n",
        "#Tienda 4\n",
        "\n",
        "ventas_por_categoria4 = tienda4.groupby(\"Categoría del Producto\")[\"Precio\"].count()\n",
        "ventas_formateadas4 = ventas_por_categoria4.apply(lambda x: f\"{x:,.0f}\")\n",
        "print(ventas_formateadas4)\n",
        "\n",
        "categoria_max4 = ventas_por_categoria4.idxmax()\n",
        "categoria_min4 = ventas_por_categoria4.idxmin()\n",
        "\n",
        "venta_max4 = ventas_por_categoria4.max()\n",
        "venta_min4 = ventas_por_categoria4.min()\n",
        "\n",
        "venta_max_formateada4 = f\"{venta_max4:,}\"\n",
        "venta_min_formateada4 = f\"{venta_min4:,}\"\n",
        "\n",
        "print(f\"La categoría con más ventas para la tienda #4 es '{categoria_max4}' con un total de {venta_max_formateada4} ventas.\")\n",
        "print(f\"La categoría con menos ventas para la tienda #4 es '{categoria_min4}' con un total de {venta_min_formateada4} ventas.\")\n",
        "\n",
        "\n",
        "# #Codigo por total de ventas sumando precio:\n",
        "\n",
        "# # #Tienda 1\n",
        "\n",
        "# ventas_por_categoria = tienda.groupby(\"Categoría del Producto\")[\"Precio\"].sum()\n",
        "# ventas_formateadas = ventas_por_categoria.apply(lambda x: f\"{x:,.0f}\")\n",
        "# print(ventas_formateadas)\n",
        "\n",
        "# categoria_max = ventas_por_categoria.idxmax()\n",
        "# venta_max = ventas_por_categoria.max()\n",
        "\n",
        "# venta_max_formateada = f\"{venta_max:,}\"\n",
        "\n",
        "# print(f\"La categoría con más ventas para la tienda #1 es '{categoria_max}' con un total de {venta_max_formateada} ventas.\")\n",
        "\n",
        "# #Tienda 2\n",
        "\n",
        "# ventas_por_categoria2 = tienda2.groupby(\"Categoría del Producto\")[\"Precio\"].sum()\n",
        "# ventas_formateadas2 = ventas_por_categoria2.apply(lambda x: f\"{x:,.0f}\")\n",
        "# print(ventas_formateadas2)\n",
        "\n",
        "# categoria_max2 = ventas_por_categoria2.idxmax()\n",
        "# venta_max2 = ventas_por_categoria2.max()\n",
        "\n",
        "# venta_max_formateada2 = f\"{venta_max2:,}\"\n",
        "\n",
        "# print(f\"La categoría con más ventas para la tienda #2 es '{categoria_max2}' con un total de {venta_max_formateada2} ventas.\")\n",
        "\n",
        "# #Tienda 3\n",
        "\n",
        "# ventas_por_categoria3 = tienda3.groupby(\"Categoría del Producto\")[\"Precio\"].sum()\n",
        "# ventas_formateadas3 = ventas_por_categoria3.apply(lambda x: f\"{x:,.0f}\")\n",
        "# print(ventas_formateadas3)\n",
        "\n",
        "# categoria_max3 = ventas_por_categoria3.idxmax()\n",
        "# venta_max3 = ventas_por_categoria3.max()\n",
        "\n",
        "# venta_max_formateada3 = f\"{venta_max3:,}\"\n",
        "\n",
        "# print(f\"La categoría con más ventas para la tienda #3 es '{categoria_max3}' con un total de {venta_max_formateada3} ventas.\")\n",
        "\n",
        "# #Tienda 4\n",
        "\n",
        "# ventas_por_categoria4 = tienda4.groupby(\"Categoría del Producto\")[\"Precio\"].sum()\n",
        "# ventas_formateadas4 = ventas_por_categoria4.apply(lambda x: f\"{x:,.0f}\")\n",
        "# print(ventas_formateadas4)\n",
        "\n",
        "# categoria_max4 = ventas_por_categoria4.idxmax()\n",
        "# venta_max4 = ventas_por_categoria4.max()\n",
        "\n",
        "# venta_max_formateada4 = f\"{venta_max4:,}\"\n",
        "\n",
        "# print(f\"La categoría con más ventas para la tienda #4 es '{categoria_max4}' con un total de {venta_max_formateada4} ventas.\")\n",
        "\n",
        "\n",
        "\n",
        "\n"
      ],
      "metadata": {
        "id": "A34YupIuYhfF",
        "colab": {
          "base_uri": "https://localhost:8080/"
        },
        "outputId": "167a3a88-46ce-4a2b-fa80-ab9cbc00a493"
      },
      "execution_count": 112,
      "outputs": [
        {
          "output_type": "stream",
          "name": "stdout",
          "text": [
            "Categoría del Producto\n",
            "Artículos para el hogar    171\n",
            "Deportes y diversión       284\n",
            "Electrodomésticos          312\n",
            "Electrónicos               448\n",
            "Instrumentos musicales     182\n",
            "Juguetes                   324\n",
            "Libros                     173\n",
            "Muebles                    465\n",
            "Name: Precio, dtype: object\n",
            "La categoría con más ventas para la tienda #1 es 'Muebles' con un total de 465 ventas.\n",
            "La categoría con menos ventas para la tienda #1 es 'Artículos para el hogar' con un total de 171 ventas.\n",
            "Categoría del Producto\n",
            "Artículos para el hogar    181\n",
            "Deportes y diversión       275\n",
            "Electrodomésticos          305\n",
            "Electrónicos               422\n",
            "Instrumentos musicales     224\n",
            "Juguetes                   313\n",
            "Libros                     197\n",
            "Muebles                    442\n",
            "Name: Precio, dtype: object\n",
            "La categoría con más ventas para la tienda #2 es 'Muebles' con un total de 442 ventas.\n",
            "La categoría con menos ventas para la tienda #2 es 'Artículos para el hogar' con un total de 181 ventas.\n",
            "Categoría del Producto\n",
            "Artículos para el hogar    177\n",
            "Deportes y diversión       277\n",
            "Electrodomésticos          278\n",
            "Electrónicos               451\n",
            "Instrumentos musicales     177\n",
            "Juguetes                   315\n",
            "Libros                     185\n",
            "Muebles                    499\n",
            "Name: Precio, dtype: object\n",
            "La categoría con más ventas para la tienda #3 es 'Muebles' con un total de 499 ventas.\n",
            "La categoría con menos ventas para la tienda #3 es 'Artículos para el hogar' con un total de 177 ventas.\n",
            "Categoría del Producto\n",
            "Artículos para el hogar    201\n",
            "Deportes y diversión       277\n",
            "Electrodomésticos          254\n",
            "Electrónicos               451\n",
            "Instrumentos musicales     170\n",
            "Juguetes                   338\n",
            "Libros                     187\n",
            "Muebles                    480\n",
            "Name: Precio, dtype: object\n",
            "La categoría con más ventas para la tienda #4 es 'Muebles' con un total de 480 ventas.\n",
            "La categoría con menos ventas para la tienda #4 es 'Instrumentos musicales' con un total de 170 ventas.\n"
          ]
        }
      ]
    },
    {
      "cell_type": "code",
      "source": [
        "#Tienda 1\n",
        "\n"
      ],
      "metadata": {
        "id": "vaE5nDx3J3Wl"
      },
      "execution_count": null,
      "outputs": []
    },
    {
      "cell_type": "code",
      "source": [
        "#Tienda 2"
      ],
      "metadata": {
        "id": "OmFPMCHNJ4sD"
      },
      "execution_count": null,
      "outputs": []
    },
    {
      "cell_type": "code",
      "source": [
        "#Tienda 3"
      ],
      "metadata": {
        "id": "1aNIcPGHJ43v"
      },
      "execution_count": null,
      "outputs": []
    },
    {
      "cell_type": "code",
      "source": [
        "#Tienda 4"
      ],
      "metadata": {
        "id": "NxOf54-fJ4_7"
      },
      "execution_count": null,
      "outputs": []
    },
    {
      "cell_type": "code",
      "source": [
        "#Creando una tabla unnica para analizar la informacion por tienda\n",
        "\n",
        "tienda = pd.read_csv(url)\n",
        "tienda2 = pd.read_csv(url2)\n",
        "tienda3 = pd.read_csv(url3)\n",
        "tienda4 = pd.read_csv(url4)\n",
        "\n",
        "# Agregar columna indicando de qué tienda es cada uno\n",
        "tienda[\"Tienda\"] = \"Tienda 1\"\n",
        "tienda2[\"Tienda\"] = \"Tienda 2\"\n",
        "tienda3[\"Tienda\"] = \"Tienda 3\"\n",
        "tienda4[\"Tienda\"] = \"Tienda 4\"\n",
        "\n",
        "# Unir todos en un solo DataFrame\n",
        "df_total = pd.concat([tienda, tienda2, tienda3, tienda4], ignore_index=True)\n",
        "\n",
        "# Mostrar los primeros registros\n",
        "#print(df_total.head())\n",
        "\n",
        "ventas_por_categoria_total = df_total.groupby(\"Tienda\")[\"Precio\"].sum()\n",
        "transacciones_total = df_total.groupby(\"Tienda\")[\"Precio\"].count()\n",
        "\n",
        "# Formatear los valores con separador de miles y símbolo de moneda\n",
        "ventas_formateadas = ventas_por_categoria_total.apply(lambda x: f\"${x:,.0f}\")\n",
        "tans_formateadas = transacciones_total.apply(lambda x: f\"{x:,.0f}\")\n",
        "print(ventas_formateadas)\n",
        "print(tans_formateadas)"
      ],
      "metadata": {
        "id": "yZR6cOjXYSk1",
        "colab": {
          "base_uri": "https://localhost:8080/"
        },
        "outputId": "f51bed28-94bd-468c-ebcb-5f50c79f20ce"
      },
      "execution_count": 89,
      "outputs": [
        {
          "output_type": "stream",
          "name": "stdout",
          "text": [
            "Tienda\n",
            "Tienda 1    $1,150,880,400\n",
            "Tienda 2    $1,116,343,500\n",
            "Tienda 3    $1,098,019,600\n",
            "Tienda 4    $1,038,375,700\n",
            "Name: Precio, dtype: object\n",
            "Tienda\n",
            "Tienda 1    2,359\n",
            "Tienda 2    2,359\n",
            "Tienda 3    2,359\n",
            "Tienda 4    2,358\n",
            "Name: Precio, dtype: object\n"
          ]
        }
      ]
    },
    {
      "cell_type": "markdown",
      "source": [
        "# 3. Calificación promedio de la tienda\n"
      ],
      "metadata": {
        "id": "Rq6tU_xSY3jk"
      }
    },
    {
      "cell_type": "code",
      "source": [
        "# #En este paso, debes calcular las calificaciones promedio de los clientes para cada tienda.\n",
        "# #El objetivo es conocer la satisfacción del cliente con los productos vendidos.\n",
        "\n",
        "# Satisfaccion_total = df_total.groupby(\"Tienda\")[\"Calificación\"].sum()\n",
        "\n",
        "# Satisfaccion_total2 = df_total.groupby(\"Categoría del Producto\")[\"Calificación\"].sum()\n",
        "# Satisfaccion_total3 = df_total.groupby(\"Categoría del Producto\")[\"Calificación\"].count()\n",
        "\n",
        "# print(Satisfaccion_total)\n",
        "# print(tans_formateadas)\n",
        "# print(Satisfaccion_total2)\n",
        "# print(Satisfaccion_total3)\n",
        "\n",
        "# satisfaccion_por_cat_total = Satisfaccion_total2/Satisfaccion_total3\n",
        "# print(satisfaccion_por_cat_total)"
      ],
      "metadata": {
        "id": "bh3jjjJwY5MU"
      },
      "execution_count": 140,
      "outputs": []
    },
    {
      "cell_type": "code",
      "source": [
        "#Pormedio por tienda\n",
        "\n",
        "tienda1_promedio = round(9381/2359,3)\n",
        "print(tienda1_promedio)\n",
        "\n",
        "tienda2_promedio = round(9524/2359,3)\n",
        "print(tienda2_promedio)\n",
        "\n",
        "tienda3_promedio = round(9550/2359,3)\n",
        "print(tienda3_promedio)\n",
        "\n",
        "tienda4_promedio = round(9422/2358,3)\n",
        "print(tienda4_promedio)\n",
        "\n",
        "print(\"La Tienda 1 tiene el promedio mas bajo con {}\".format(tienda1_promedio))\n",
        "\n",
        "promedios = [tienda1_promedio,tienda2_promedio,tienda3_promedio,tienda4_promedio]\n",
        "\n",
        "\n",
        "# Configurar eje Y con zoom\n",
        "y_min = min(promedios) * 0.99\n",
        "y_max = max(promedios) * 1.01\n",
        "plt.ylim(y_min, y_max)\n",
        "\n",
        "# Gráfico\n",
        "plt.bar(tiendas, promedios, color='skyblue', edgecolor='black')\n",
        "\n",
        "# Mostrar valores sobre las barras, ajustado dinámicamente\n",
        "for i, total in enumerate(promedios):\n",
        "    desplazamiento = (y_max - y_min) * 0.02  # 2% del rango como espacio\n",
        "    plt.text(i, total + desplazamiento, f\"{total:,.3f}\", ha='center', va='bottom')\n",
        "\n",
        "# Etiquetas y título\n",
        "plt.title(\"Promedio de calificación por tienda\")\n",
        "plt.ylabel(\"Calificación\")\n",
        "plt.show()\n",
        "\n",
        "\n"
      ],
      "metadata": {
        "id": "I0KkjPoTY88F",
        "colab": {
          "base_uri": "https://localhost:8080/",
          "height": 540
        },
        "outputId": "c0c26401-feb9-4cf7-8e6a-ee464e9db5e1"
      },
      "execution_count": 134,
      "outputs": [
        {
          "output_type": "stream",
          "name": "stdout",
          "text": [
            "3.977\n",
            "4.037\n",
            "4.048\n",
            "3.996\n",
            "La Tienda 1 tiene el promedio mas bajo con 3.977\n"
          ]
        },
        {
          "output_type": "display_data",
          "data": {
            "text/plain": [
              "<Figure size 640x480 with 1 Axes>"
            ],
            "image/png": "[encoded data removed]"
          },
          "metadata": {}
        }
      ]
    },
    {
      "cell_type": "markdown",
      "source": [
        "# 4. Productos más y menos vendidos"
      ],
      "metadata": {
        "id": "DmNp1KPBZCm-"
      }
    },
    {
      "cell_type": "code",
      "source": [],
      "metadata": {
        "id": "qoyjqijQZHfF"
      },
      "execution_count": 41,
      "outputs": []
    },
    {
      "cell_type": "code",
      "source": [],
      "metadata": {
        "id": "0Sw3sd4IZIGW"
      },
      "execution_count": 41,
      "outputs": []
    },
    {
      "cell_type": "markdown",
      "source": [
        "# 5. Envío promedio por tienda"
      ],
      "metadata": {
        "id": "Fl0cGi3bZKqU"
      }
    },
    {
      "cell_type": "code",
      "source": [],
      "metadata": {
        "id": "S2JeaCykZNy9"
      },
      "execution_count": 41,
      "outputs": []
    },
    {
      "cell_type": "code",
      "source": [],
      "metadata": {
        "id": "0tSdCie9ZQlt"
      },
      "execution_count": 41,
      "outputs": []
    }
  ]
}