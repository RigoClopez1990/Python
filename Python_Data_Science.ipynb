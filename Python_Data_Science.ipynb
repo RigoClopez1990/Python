{
  "nbformat": 4,
  "nbformat_minor": 0,
  "metadata": {
    "colab": {
      "provenance": [],
      "include_colab_link": true
    },
    "kernelspec": {
      "name": "python3",
      "display_name": "Python 3"
    },
    "language_info": {
      "name": "python"
    }
  },
  "cells": [
    {
      "cell_type": "markdown",
      "metadata": {
        "id": "view-in-github",
        "colab_type": "text"
      },
      "source": [
        "<a href=\"https://colab.research.google.com/github/RigoClopez1990/Python/blob/main/Python_Data_Science.ipynb\" target=\"_parent\"><img src=\"https://colab.research.google.com/assets/colab-badge.svg\" alt=\"Open In Colab\"/></a>"
      ]
    },
    {
      "cell_type": "markdown",
      "source": [
        "# Python para Data Science\n",
        "\n",
        "Notebook para el curso de Python para Data Science publicado en la plataforma de [Alura Latam](https://www.aluracursos.com/)"
      ],
      "metadata": {
        "id": "lQx6Mmv0OJyT"
      }
    },
    {
      "cell_type": "markdown",
      "source": [
        "# Introducción a Python\n",
        "¡Vamos a conocer Python, nuestro ambiente de estudio, y también generaremos nuestro primer código en este lenguaje!"
      ],
      "metadata": {
        "id": "7SiB6JIpYKmY"
      }
    },
    {
      "cell_type": "markdown",
      "source": [
        "## Google Colaboratory\n",
        "\n",
        "Ya aprendimos qué es [Python](https://www.python.org/) y ahora aprenderemos a usar nuestra herramienta de ejecución [Google Colaboratory](https://colab.research.google.com/) para programar en un notebook interactivo.\n",
        "\n",
        "Vamos a probar algunas funciones de este ambiente."
      ],
      "metadata": {
        "id": "Yugfb3fCOYY9"
      }
    },
    {
      "cell_type": "markdown",
      "source": [
        " **`>>> Usa esta celda para mover <<<`**"
      ],
      "metadata": {
        "id": "2iUHQsJasJAk"
      }
    },
    {
      "cell_type": "code",
      "source": [],
      "metadata": {
        "id": "o7jrX_iKhdkU"
      },
      "execution_count": null,
      "outputs": []
    },
    {
      "cell_type": "markdown",
      "source": [
        "## ¡Hola mundo!\n",
        "\n",
        "Vamos a conocer un poco más de cerca nuestro notebook. Para ello ejecutaremos nuestro primer comando en Python: [`print()`](https://docs.python.org/3/library/functions.html#print)"
      ],
      "metadata": {
        "id": "aLSFP2V7XTfe"
      }
    },
    {
      "cell_type": "code",
      "source": [],
      "metadata": {
        "id": "0qZX8_ZQBYyk"
      },
      "execution_count": null,
      "outputs": []
    },
    {
      "cell_type": "code",
      "source": [],
      "metadata": {
        "id": "GLMzF_AKBY7a"
      },
      "execution_count": null,
      "outputs": []
    },
    {
      "cell_type": "markdown",
      "source": [
        "# Manipulando los datos\n",
        "\n",
        "Vamos a aprender sobre las variables en Python, cómo declararlas y utilizarlas además de conocer otros comandos de este lenguaje. :D"
      ],
      "metadata": {
        "id": "iP8uWQmFYFRs"
      }
    },
    {
      "cell_type": "markdown",
      "source": [
        "## Variables\n",
        "\n",
        "En Data Science trabajamos con varios tipos de datos e informaciones, entonces es esencial saber cómo trabajar con las variables."
      ],
      "metadata": {
        "id": "sLNVmnTbag1Z"
      }
    },
    {
      "cell_type": "markdown",
      "source": [
        "Las variables en Python se crean cuando atribuimos un valor a ella.\n",
        "\n",
        "Para esto, colocamos el nombre de la variable, el signo de igual (`=`) y el valor que queremos atribuirle."
      ],
      "metadata": {
        "id": "lsCY0wahAbf6"
      }
    },
    {
      "cell_type": "code",
      "source": [],
      "metadata": {
        "id": "vsHh5buZADND"
      },
      "execution_count": null,
      "outputs": []
    },
    {
      "cell_type": "code",
      "source": [],
      "metadata": {
        "id": "sivPtqSjADQV"
      },
      "execution_count": null,
      "outputs": []
    },
    {
      "cell_type": "code",
      "source": [],
      "metadata": {
        "id": "JC8jO47wADlm"
      },
      "execution_count": null,
      "outputs": []
    },
    {
      "cell_type": "markdown",
      "source": [
        "Existen algunos tipos de nomes que **no** podemos definir para las variables:\n",
        "\n",
        "- **Nombres que comiencen con números**\n",
        "  - Ejemplos: `10_notas`, `2_nombre_casa`, etc.\n",
        "- **Palabras separadas por espacio**\n",
        "  - Ejemplos: `Nombre escuela`, `notas estudiantes`, etc.\n",
        "- **Nombres de funciones de Python**\n",
        "  - Ejemplos: `print`, `type`, etc."
      ],
      "metadata": {
        "id": "om2N0jHKAzwL"
      }
    },
    {
      "cell_type": "markdown",
      "source": [
        "> Las letras mayúsculas y minúsculas generarán diferentes variables. La variable `edad` es diferente de `Edad` que a su vez es diferente de `EDAD`:\n",
        "``` Python\n",
        "edad = 1\n",
        "Edad = 2\n",
        "EDAD = 3\n",
        "_edad = 4\n",
        "_edad_ = 5\n",
        "print(edad, Edad, EDAD, _edad, _edad_)\n",
        "1 2 3 4 5\n",
        "```"
      ],
      "metadata": {
        "id": "A19vY2GVMujB"
      }
    },
    {
      "cell_type": "markdown",
      "source": [
        "## Tipos de variables\n",
        "\n",
        "Cada variable contiene una clase específica con respecto al tipo de objeto al cual esta hace referencia. Estas clases serán diferentes de acuerdo con el tipo de dato que le sea atribuido a una variable.\n",
        "\n",
        "Para conocer la clase de cada elemento usamos la función [`type()`](https://docs.python.org/3/library/functions.html#type)"
      ],
      "metadata": {
        "id": "UqhzuBhBHsps"
      }
    },
    {
      "cell_type": "code",
      "source": [],
      "metadata": {
        "id": "J5a9t73A_-PX"
      },
      "execution_count": null,
      "outputs": []
    },
    {
      "cell_type": "code",
      "source": [],
      "metadata": {
        "id": "rqmO1ew-_-So"
      },
      "execution_count": null,
      "outputs": []
    },
    {
      "cell_type": "code",
      "source": [],
      "metadata": {
        "id": "xkrPMkeY_-cP"
      },
      "execution_count": null,
      "outputs": []
    },
    {
      "cell_type": "markdown",
      "source": [
        "En un conjunto de datos escolares podemos tener varios tipos de informaciones. Supongamos que tenemos acceso a la ficha de datos del alumno *Penélope Camacho*, cómo transformamos este nombre en variables de Python?\n",
        "\n",
        "#### Ficha:\n",
        "\n",
        "- Nombre: Penélope Camacho\n",
        "- Edad: 11 años\n",
        "- Promedio del semestre: 9,75\n",
        "- Situación de aprobación: Verdadera (aprobado)"
      ],
      "metadata": {
        "id": "O-FxDumfWu0C"
      }
    },
    {
      "cell_type": "code",
      "source": [],
      "metadata": {
        "id": "FabQ7jQf_8Xt"
      },
      "execution_count": null,
      "outputs": []
    },
    {
      "cell_type": "code",
      "source": [],
      "metadata": {
        "id": "IZLQnZUj_8bd"
      },
      "execution_count": null,
      "outputs": []
    },
    {
      "cell_type": "markdown",
      "source": [
        "## Variables numéricas\n",
        "\n",
        "Entre los tipos de datos numéricos vamos a enfocarnos en los tipos `entero` y `float`."
      ],
      "metadata": {
        "id": "KFq_8Sxf-OG0"
      }
    },
    {
      "cell_type": "markdown",
      "source": [
        "Tenemos una tabla de información sobre los diversos cargos, cantidad de personas empleadas y el salario correspondiente:\n",
        "\n",
        "|Cargo | Cantidad | Salario|\n",
        "|---|---|---|\n",
        "|Vigilante | 5 | 300 |\n",
        "|Docente | 16| 500|\n",
        "|Coordinador| 2 |600|\n",
        "\n",
        "Necesitamos trabajar con estos datos para obtener:\n",
        "\n",
        "- La cantidad total de empleados;\n",
        "- La diferencia entre el salario más bajo y más alto; y\n",
        "- El promedio ponderado de los salarios de los empleados de la escuela."
      ],
      "metadata": {
        "id": "8_HYUbkVYdQY"
      }
    },
    {
      "cell_type": "code",
      "source": [],
      "metadata": {
        "id": "F_X-wxdm_5Ys"
      },
      "execution_count": null,
      "outputs": []
    },
    {
      "cell_type": "code",
      "source": [],
      "metadata": {
        "id": "gKmBbhII_5b9"
      },
      "execution_count": null,
      "outputs": []
    },
    {
      "cell_type": "code",
      "source": [],
      "metadata": {
        "id": "fIugsxNy_53j"
      },
      "execution_count": null,
      "outputs": []
    },
    {
      "cell_type": "markdown",
      "source": [
        "## Strings"
      ],
      "metadata": {
        "id": "yQy7b0ZWoD-P"
      }
    },
    {
      "cell_type": "markdown",
      "source": [
        "Strings hace referencia a un conjunto de caracteres formando un texto.\n",
        "\n",
        "Podemos crear Strings cuando atribuimos un dato a una variable entre comillas sencillas (`'`) o comillas dobles (`\"`)."
      ],
      "metadata": {
        "id": "vlo2-DXusv3s"
      }
    },
    {
      "cell_type": "code",
      "source": [],
      "metadata": {
        "id": "ityEWqvh_2wK"
      },
      "execution_count": null,
      "outputs": []
    },
    {
      "cell_type": "markdown",
      "source": [
        "Las variables textuales son objetos que poseen métodos que nos ayudan a formatear strings. Los métodos los podemos ejecutar al definir un objeto de acuerdo con la siguiente estructura:\n",
        "\n",
        "```\n",
        "objeto.metodo()\n",
        "```\n",
        "\n",
        "Existen métodos que no necesitan los `()`, siempre es una buena práctica verificar la documentación para cada caso."
      ],
      "metadata": {
        "id": "2e9UD_CCxqz_"
      }
    },
    {
      "cell_type": "markdown",
      "source": [
        "---\n",
        "**Situación:**\n",
        "\n",
        "Recibimos una variable con el nombre de una profesora de la escuela para añadirla a los registros. Sin embargo, necesitamos darle un tratamiento a este texto antes de insertarlo al sistema."
      ],
      "metadata": {
        "id": "p6aPmMGP4tf9"
      }
    },
    {
      "cell_type": "code",
      "source": [
        "texto = '  Micaela de los Sanyos '"
      ],
      "metadata": {
        "id": "icDWtYTjBO0n"
      },
      "execution_count": null,
      "outputs": []
    },
    {
      "cell_type": "markdown",
      "source": [
        "El objetivo final es que el nombre aparezca de la siguiente forma:\n",
        "\n",
        "```\n",
        "'MICAELA DE LOS SANTOS'\n",
        "```"
      ],
      "metadata": {
        "id": "Dg2ZXSZOGzjC"
      }
    },
    {
      "cell_type": "markdown",
      "source": [
        "### [`str.upper()` ](https://docs.python.org/3/library/stdtypes.html#str.upper)\n",
        "Convierte una string a mayúsculas."
      ],
      "metadata": {
        "id": "iVTAD8q702eN"
      }
    },
    {
      "cell_type": "code",
      "source": [],
      "metadata": {
        "id": "wMVshJrY_ZXh"
      },
      "execution_count": null,
      "outputs": []
    },
    {
      "cell_type": "markdown",
      "source": [
        "### [`str.lower()`](https://docs.python.org/3/library/stdtypes.html#str.lower)\n",
        "Convierte una string a minúsculas."
      ],
      "metadata": {
        "id": "hbDSBtMV1TpG"
      }
    },
    {
      "cell_type": "code",
      "source": [],
      "metadata": {
        "id": "px3yEeNH_YK4"
      },
      "execution_count": null,
      "outputs": []
    },
    {
      "cell_type": "markdown",
      "source": [
        "### [`str.strip()`](https://docs.python.org/3/library/stdtypes.html#str.strip)\n",
        "Elimina los espacios en blanco al inicio y al final de una string."
      ],
      "metadata": {
        "id": "kz47eWM11gii"
      }
    },
    {
      "cell_type": "code",
      "source": [],
      "metadata": {
        "id": "76dLgNa4_XAe"
      },
      "execution_count": null,
      "outputs": []
    },
    {
      "cell_type": "markdown",
      "source": [
        "### [`str.replace(antiguo, nuevo)`](https://docs.python.org/3/library/stdtypes.html#str.replace)\n",
        "\n",
        "Sustituye todas las ocurrencias del texto \"antiguo\" en la string por el  \"nuevo\"."
      ],
      "metadata": {
        "id": "m6notiyS1SCV"
      }
    },
    {
      "cell_type": "code",
      "source": [],
      "metadata": {
        "id": "PNXAixtE_V6R"
      },
      "execution_count": null,
      "outputs": []
    },
    {
      "cell_type": "markdown",
      "source": [
        "### Observaciones\n",
        "\n",
        "1. Los métodos devuelven una **tranformación**, no son ejecutados directamente sobre la variable donde está almacenado el texto.\n",
        "\n",
        "2. Adicionalmente, podemos acumular la ejecución de los métodos."
      ],
      "metadata": {
        "id": "zukvEjhG2Rcn"
      }
    },
    {
      "cell_type": "code",
      "source": [],
      "metadata": {
        "id": "JjkBRklr_T5n"
      },
      "execution_count": null,
      "outputs": []
    },
    {
      "cell_type": "markdown",
      "source": [
        "Para que la transformación se pueda ejecutar debemos atribuir la salida de las transformaciones a las variables"
      ],
      "metadata": {
        "id": "1KbwfVut2h6I"
      }
    },
    {
      "cell_type": "code",
      "source": [],
      "metadata": {
        "id": "ocPP-Jaj_SJI"
      },
      "execution_count": null,
      "outputs": []
    },
    {
      "cell_type": "code",
      "source": [],
      "metadata": {
        "id": "m1RvLGZZ_SP3"
      },
      "execution_count": null,
      "outputs": []
    },
    {
      "cell_type": "markdown",
      "source": [
        "## Capturando datos\n",
        "\n",
        "En algunas aplicaciones necesitamos capturar los valores del usuario de nuestro proyecto. En python, logramos capturar los datos del usuario a través del comando [`input()`](https://docs.python.org/3/library/functions.html#input).\n",
        "\n",
        "Para ejecutar la captura debemos atribuir el resultado de esta función a una variable."
      ],
      "metadata": {
        "id": "0h9Fh5G9kHCa"
      }
    },
    {
      "cell_type": "code",
      "source": [],
      "metadata": {
        "id": "zbH_9i3q_PdY"
      },
      "execution_count": null,
      "outputs": []
    },
    {
      "cell_type": "code",
      "source": [],
      "metadata": {
        "id": "JZy1Q9Tl_PgL"
      },
      "execution_count": null,
      "outputs": []
    },
    {
      "cell_type": "markdown",
      "source": [
        "La salida de este comando siempre será una *string*. Esto quiere decir que aunque capturemos un valor de variable numérica, este será de tipo string.\n",
        "\n",
        "Entonces, será necesario **convertir el resultado cuando no se desea utilizar el valor como tipo string**."
      ],
      "metadata": {
        "id": "7z7hcLCk_aCY"
      }
    },
    {
      "cell_type": "markdown",
      "source": [
        "Existen funciones para la conversión de valores:\n",
        "\n",
        "- Enteros: [`int(dato_para_conversion)`](https://docs.python.org/3/library/functions.html#int)\n",
        "- Coma flotante: [`float(dato_para_conversion)`](https://docs.python.org/3/library/functions.html#float)\n",
        "- String: [`str(dato_para_conversion)`](https://docs.python.org/3/library/functions.html#func-str)\n",
        "- Booleano: [`bool(dato_para_conversion)`](https://docs.python.org/3/library/functions.html#bool)"
      ],
      "metadata": {
        "id": "TOlegATj1Jfp"
      }
    },
    {
      "cell_type": "code",
      "source": [],
      "metadata": {
        "id": "M2ueeH6l_NMe"
      },
      "execution_count": null,
      "outputs": []
    },
    {
      "cell_type": "code",
      "source": [],
      "metadata": {
        "id": "xfWwuViK_NUn"
      },
      "execution_count": null,
      "outputs": []
    },
    {
      "cell_type": "code",
      "source": [],
      "metadata": {
        "id": "uFCHDyew_NZm"
      },
      "execution_count": null,
      "outputs": []
    },
    {
      "cell_type": "markdown",
      "source": [
        "Trataremos de representar mejor ahora el resultado de la transformación que obtuvimos. Nosotros podemos formatear y presentar nuestro resultado mezclando strings con valores no textuales.\n",
        "\n",
        "Para ello utilizamos la estructura de formatación `f` con strings."
      ],
      "metadata": {
        "id": "yNI2-XTbB3aS"
      }
    },
    {
      "cell_type": "code",
      "source": [],
      "metadata": {
        "id": "keJjA5N9_K5i"
      },
      "execution_count": null,
      "outputs": []
    },
    {
      "cell_type": "markdown",
      "source": [
        "# Estructuras condicionales"
      ],
      "metadata": {
        "id": "NwRaiHHHhhyl"
      }
    },
    {
      "cell_type": "code",
      "source": [],
      "metadata": {
        "id": "pa4gLncu-mvU"
      },
      "execution_count": null,
      "outputs": []
    },
    {
      "cell_type": "code",
      "source": [],
      "metadata": {
        "id": "_cWRmDiE-m4p"
      },
      "execution_count": null,
      "outputs": []
    },
    {
      "cell_type": "markdown",
      "source": [
        "## `IF` y `ELSE`\n",
        "\n",
        "Los comandos `if` y `else` son dos estructuras condicionales. El comando `if` ejecutará el bloque de comandos en caso de que la condición citada sea  **verdadera**. El comando `else` ejecutará el bloque de comandos en el caso de que la condicional de `if` sea **falsa**."
      ],
      "metadata": {
        "id": "qXZqg9aYEhAh"
      }
    },
    {
      "cell_type": "markdown",
      "source": [
        "El comando `if` es una palabra clave en Python que significa \"si\". Este se emplea para conformar la estructura condicional, que te permite verificar si una determinada condición es verdadera o falsa e, inmediatamente después, ejecute un bloque de código específico dependiendo del resultado de la verificación. La sintaxis para usar el comando `if` es:\n",
        "\n",
        "\n",
        "\n",
        "```\n",
        "if condicion:\n",
        "    # Realiza algo\n",
        "```\n",
        "\n"
      ],
      "metadata": {
        "id": "EIhlqHXd2Gil"
      }
    },
    {
      "cell_type": "code",
      "source": [],
      "metadata": {
        "id": "S2S6XAFz-czM"
      },
      "execution_count": null,
      "outputs": []
    },
    {
      "cell_type": "code",
      "source": [],
      "metadata": {
        "id": "YHkwMMyY-c1r"
      },
      "execution_count": null,
      "outputs": []
    },
    {
      "cell_type": "markdown",
      "source": [
        "Ya el comando `else` en Python se usa en junción con la palabra clave `if` para formar una estructura condicional. la sintaxis para usar el `else` es:\n",
        "\n",
        "```\n",
        "if condicion:\n",
        "  # codigo en caso de que sea verdad\n",
        "else:\n",
        "  # codigo en caso de que sea falso\n",
        "```\n",
        "\n",
        "el comando `else` se ejecuta cuando la condición verificada por el `if` es evaluada como `False`."
      ],
      "metadata": {
        "id": "27RW2v_sIKct"
      }
    },
    {
      "cell_type": "code",
      "source": [],
      "metadata": {
        "id": "ZTfNJd_f-aOq"
      },
      "execution_count": null,
      "outputs": []
    },
    {
      "cell_type": "code",
      "source": [],
      "metadata": {
        "id": "LPOb5MkV-btq"
      },
      "execution_count": null,
      "outputs": []
    },
    {
      "cell_type": "markdown",
      "source": [
        "---\n",
        "**Situación:**\n",
        "\n",
        "Recibiremos el promedio de la nota de los estudiantes y necesitamos de un algoritmo que ejecute el análisis y determine si el estudiante fue **Aprobado** o **Reprobado**, mostrando un mensaje del resultado. Para ser aprobado, el promedio necesita ser igual o superior a 7.0."
      ],
      "metadata": {
        "id": "BqORg85XX-Nl"
      }
    },
    {
      "cell_type": "code",
      "source": [],
      "metadata": {
        "id": "UukCN4AQ-YYW"
      },
      "execution_count": null,
      "outputs": []
    },
    {
      "cell_type": "code",
      "source": [],
      "metadata": {
        "id": "X0o8FW1H-YkA"
      },
      "execution_count": null,
      "outputs": []
    },
    {
      "cell_type": "markdown",
      "source": [
        "Ahora, nuestra institución educativa estableció que las personas que tengan el promedio entre 5.0 y 7.0 pueden participar del curso de **Recuperación** durante las vacaciones para lograr aprobar.\n",
        "\n",
        "Entonces podemos apoyarnos en un conjunto de `if`s para poder estructurar esta nueva condición."
      ],
      "metadata": {
        "id": "bD9O17HB6LUo"
      }
    },
    {
      "cell_type": "code",
      "source": [],
      "metadata": {
        "id": "G9cJ5O9--W52"
      },
      "execution_count": null,
      "outputs": []
    },
    {
      "cell_type": "code",
      "source": [],
      "metadata": {
        "id": "iU-pjoJt-W89"
      },
      "execution_count": null,
      "outputs": []
    },
    {
      "cell_type": "markdown",
      "source": [
        "Observa que en casos con 3 situaciones como este necesitamos definir bien nuestras condiciones. Pues, si realizamos una condición con `else` al final, este irá a considerar solamente la condición `if` inmediatamente anterior para generar la salida en caso de que el resultado de su operación lógica sea **falso** dando como resultado, dos o más ejecuciones.\n",
        "\n",
        "Por ejemplo:"
      ],
      "metadata": {
        "id": "D5e2mByjvycO"
      }
    },
    {
      "cell_type": "code",
      "source": [],
      "metadata": {
        "id": "C21JmOuK-VU8"
      },
      "execution_count": null,
      "outputs": []
    },
    {
      "cell_type": "code",
      "source": [],
      "metadata": {
        "id": "bHiVgnPs-Vlv"
      },
      "execution_count": null,
      "outputs": []
    },
    {
      "cell_type": "markdown",
      "source": [
        "## `ELIF`\n",
        "\n",
        "El comando `elif` es una palabra clave en Python que significa \"si no, si\" y lo podemos considerar una *contracción* entre `else` e `if`. Se utiliza en conjunto con la palabra clave `if` para formar una estructura condicional en cadena."
      ],
      "metadata": {
        "id": "04T5g-7h4zWx"
      }
    },
    {
      "cell_type": "markdown",
      "source": [
        "la sintaxis para utilizar el comando `elif` es:\n",
        "\n",
        "```\n",
        "if condicion1:\n",
        "    # Realiza algo\n",
        "elif condicion2:\n",
        "    # Realiza otra cosa\n",
        "elif condicion3:\n",
        "    # Realiza otra cosa\n",
        "else:\n",
        "    # Realiza algo diferente\n",
        "```\n",
        "\n",
        "El comando `elif` permite que puedas verificar varias condiciones en cadena, economizando espacio en tu código. Si la primera condición se evalúa como `False`, el interpretador de Python evaluará la próxima condición con el `elif`. Ello continuará hasta que una condición sea evaluada como `True` o hasta que el `else` sea alcazado. Si ninguna de las condiciones es evaluada como `True`, la ejecución del código del comando `else` será iniciada."
      ],
      "metadata": {
        "id": "rNBHr5mm1Lm6"
      }
    },
    {
      "cell_type": "markdown",
      "source": [
        "Vamos a emplear el mismo caso anterior:"
      ],
      "metadata": {
        "id": "MVoykFbB4bd4"
      }
    },
    {
      "cell_type": "code",
      "source": [],
      "metadata": {
        "id": "QFamB78s-TW_"
      },
      "execution_count": null,
      "outputs": []
    },
    {
      "cell_type": "code",
      "source": [],
      "metadata": {
        "id": "nuScbnHF-TfK"
      },
      "execution_count": null,
      "outputs": []
    },
    {
      "cell_type": "markdown",
      "source": [
        "## Operadores\n",
        "\n",
        "Durante la construcción de comandos a veces necesitamos de una elaboración mayor de la expresión condicional, necesitando que algunos operadores lógicos se encuentren integrados."
      ],
      "metadata": {
        "id": "Tf1wSOem6iwZ"
      }
    },
    {
      "cell_type": "markdown",
      "source": [
        "### `AND`, `OR`, `NOT`\n",
        "\n",
        "Los operadores lógicos `and`, `or` y `not` son usados para combinar expresiones lógicas en Python. Ellos son usados frecuentemente en conjunto con el comando `if` para crear estructuras condicionales más complejas.\n"
      ],
      "metadata": {
        "id": "GFIZnRWXGPWO"
      }
    },
    {
      "cell_type": "markdown",
      "source": [
        "- `AND` es usado para verificar si dos condiciones son verdaderas. La expresión lógica¹ `x and y` se evalúa como `True` tan solo si **ambas condiciones `x` y `y` son verdaderas**, y como `False` en caso contrario.\n",
        "\n",
        "- `OR` es usado para verificar si al menos una de las condiciones es verdadera. La expresión lógica `x or y` se evalúa como `True` **si al menos una de las condiciones `x` o `y` es verdadera**, y como `False` si ambas condiciones son falsas.\n",
        "\n",
        "- `NOT` es usado para **negar una condición**. La expresión lógica `not x` es evaluada como `True` si la condición x es falsa, y como `False` si la condición x es verdadera.\n",
        "\n",
        "¹ Una expresión lógica es una declaración que puede ser evaluada como verdadera o falsa. Ella se compone por operandos lógicos² y por operadores lógicos³, que son usados ​​para combinar varias expresiones lógicas en una única expresión.\n",
        "\n",
        "² Los operandos lógicos son los elementos que son comparados o evaluados en una expresión lógica. Ellos son generalmente valores verdaderos o falsos, pero también pueden ser expresiones lógicas más complejas. En Python, los operandos lógicos son los valores `True` y `False`.\n",
        "\n",
        "³ Los operadores lógicos son ls símbolos o palabras clave que son usados ​​para combinar varias expresiones lógicas en una única expresión. En Python, los operadores lógicos son `and`, `or` y `not`, bien como las palabras clave `if`, `elif` e `else`."
      ],
      "metadata": {
        "id": "Z_dgAoHXJbzB"
      }
    },
    {
      "cell_type": "markdown",
      "source": [
        "> Operadores lógicos más comunes\n",
        "\n",
        "|a|b|AND|OR|NOT|\n",
        "|-|-|-|-|-|\n",
        "|0|0|0|0|1\n",
        "|0|1|0|1|-\n",
        "|1|0|0|1|-\n",
        "|1|1|1|1|0\n"
      ],
      "metadata": {
        "id": "2E5aUogf-49u"
      }
    },
    {
      "cell_type": "code",
      "source": [],
      "metadata": {
        "id": "DFKmpvmS-Pa6"
      },
      "execution_count": null,
      "outputs": []
    },
    {
      "cell_type": "code",
      "source": [],
      "metadata": {
        "id": "W5BIrpOD-PeI"
      },
      "execution_count": null,
      "outputs": []
    },
    {
      "cell_type": "code",
      "source": [],
      "metadata": {
        "id": "fpDhYxq4-PiM"
      },
      "execution_count": null,
      "outputs": []
    },
    {
      "cell_type": "markdown",
      "source": [
        "### `IN`\n",
        "\n",
        "Es usado para verificar si un elemento está presente en una lista, tupla u otra colección de conjunto. La expresión `x in y` se evalúa como `True` si el elemento `x` esta presente na variávelen la variable de conjunto `y`, y como `False` en caso contrario."
      ],
      "metadata": {
        "id": "w7EXG1dhWtja"
      }
    },
    {
      "cell_type": "markdown",
      "source": [
        "Podemos verificarlo con variables de texto.\n",
        "\n",
        "---\n",
        "\n",
        "**Situación:**\n",
        "\n",
        "En la escuela nos entregaron una lista con nombres de estudiantes que fueron aprobados según el promedio del semestre, pero es necesario verificar si algunos nombres están en esa lista para confirmar que los datos estén correctos.\n",
        "\n",
        "La lista distribuida puede ser observada a continuación:\n",
        "\n",
        "```\n",
        "lista = 'Juan Pérez, María González, Pedro Rodríguez, Ana López, Carlos Martínez,\n",
        "    Laura Sánchez, José García, Elena Fernández, Luis Morales, Carmen Torres,\n",
        "    David Ruiz, Isabel Ramírez, Javier Díaz, Sara Herrera, Miguel Castro,\n",
        "    Patricia Ortega, Francisco Vargas, Marta Jiménez, Manuel Medina, Rosa Molina,\n",
        "    Alejandro Silva, Silvia Ruiz, Andrés Torres, Natalia Soto, Diego Guerrero,\n",
        "    Paula Ríos, Ricardo Navarro, Alicia Cordero, Carlos Vidal, Lorena Gómez'\n",
        "```\n",
        "\n",
        "Los nombres que necesitas verificar son los siguientes:\n",
        "\n",
        "```\n",
        "nombre_1 = 'Miguel Castro'\n",
        "nombre_2 = 'Marcelo Noguera'\n",
        "```"
      ],
      "metadata": {
        "id": "enJNp6JenQbq"
      }
    },
    {
      "cell_type": "code",
      "source": [],
      "metadata": {
        "id": "gPPN9BCT-Mki"
      },
      "execution_count": null,
      "outputs": []
    },
    {
      "cell_type": "code",
      "source": [],
      "metadata": {
        "id": "GINbG3Fa-Mnb"
      },
      "execution_count": null,
      "outputs": []
    },
    {
      "cell_type": "code",
      "source": [],
      "metadata": {
        "id": "hk-RhNRT-Mp7"
      },
      "execution_count": null,
      "outputs": []
    },
    {
      "cell_type": "markdown",
      "source": [
        "# Estructuras de repetición"
      ],
      "metadata": {
        "id": "aL1vJPewvwvz"
      }
    },
    {
      "cell_type": "markdown",
      "source": [
        "Cuando tenemos que ejecutar un mismo bloque de comandos durante varias ocasiones no es nada práctico hacerlo a mano.\n",
        "\n",
        "**Situación**: Nos fue solicitado obtener e imprimir el promedio de 2 notas de **3 estudantes**:"
      ],
      "metadata": {
        "id": "VcPfCa8d-84t"
      }
    },
    {
      "cell_type": "code",
      "source": [],
      "metadata": {
        "id": "xcx21IGT9qA0"
      },
      "execution_count": null,
      "outputs": []
    },
    {
      "cell_type": "code",
      "source": [],
      "metadata": {
        "id": "Wtbiy9Ay9rGJ"
      },
      "execution_count": null,
      "outputs": []
    },
    {
      "cell_type": "code",
      "source": [],
      "metadata": {
        "id": "Yfyz4anY9rIr"
      },
      "execution_count": null,
      "outputs": []
    },
    {
      "cell_type": "markdown",
      "source": [
        "Ahora imaginemos una situación en que no son tan solo 3 estudiantes, sino 100 estudiantes. No sería nada interesante repetir el mismo código 100 veces, sino **ejecutar el mismo código 100 veces**.\n",
        "\n",
        "¡Esta estructura la logramos construir con lazos de repetición!"
      ],
      "metadata": {
        "id": "9puIuvUbFSFX"
      }
    },
    {
      "cell_type": "markdown",
      "source": [
        "## `WHILE`"
      ],
      "metadata": {
        "id": "uLO9-aE4-wx8"
      }
    },
    {
      "cell_type": "markdown",
      "source": [
        "El lazo `while` es una estructura de control de repetición en Python que permite ejecutar un bloque de código repetidamente mientras que una determinada condición sea verdadera. Su estructura es:\n",
        "\n",
        "\n",
        "\n",
        "```\n",
        "while condicion:\n",
        "    # bloque de codigo\n",
        "```\n",
        "\n",
        "Vamos a construir un ejemplo con un contador de 1 hasta 10.\n"
      ],
      "metadata": {
        "id": "rXZxDMiqHxm9"
      }
    },
    {
      "cell_type": "code",
      "source": [],
      "metadata": {
        "id": "Hd0ZSWxD9wCD"
      },
      "execution_count": null,
      "outputs": []
    },
    {
      "cell_type": "code",
      "source": [],
      "metadata": {
        "id": "miFHNqp29nOL"
      },
      "execution_count": null,
      "outputs": []
    },
    {
      "cell_type": "markdown",
      "source": [
        "Ahora vamos a colectar las notas y promedios de cada alumno dentro del lazo `while`. Haremos un ejemplo con 3 promedios."
      ],
      "metadata": {
        "id": "W4KZPBJuIrut"
      }
    },
    {
      "cell_type": "code",
      "source": [],
      "metadata": {
        "id": "9T5eCLFx9wk6"
      },
      "execution_count": null,
      "outputs": []
    },
    {
      "cell_type": "code",
      "source": [],
      "metadata": {
        "id": "P6E0_dW-9lZ9"
      },
      "execution_count": null,
      "outputs": []
    },
    {
      "cell_type": "markdown",
      "source": [
        "## `FOR`"
      ],
      "metadata": {
        "id": "WgAIaENMMfCP"
      }
    },
    {
      "cell_type": "markdown",
      "source": [
        "El lazo `for` es un tipo de estructura de control de flujo en Python que permite iterar sobre un conjunto de elementos. Su estructura es:\n",
        "\n",
        "\n",
        "\n",
        "```\n",
        "for elemento in conjunto:\n",
        "    # codigo a ser ejecutado para cada elemento\n",
        "```\n",
        "\n",
        "El lazo `for` itera sobre cada elemento del conjunto especificado y ejecuta el bloque de código dentro del lazo para cada elemento. Cuando el lazo llega al final del conjunto, este se interrumpe y el programa continúa la ejecución después del lazo.\n",
        "\n"
      ],
      "metadata": {
        "id": "HxrSZoRAMh-x"
      }
    },
    {
      "cell_type": "markdown",
      "source": [
        "El conjunto lo podemos generar con la función incorporada [`range()`](https://docs.python.org/3/library/functions.html#func-range). Se trata de una función capaz de generar una secuencia de números enteros. La estructura de esta función es:\n",
        "\n",
        "```\n",
        "range(inicio, fin, paso)\n",
        "```\n",
        "\n",
        "Según la documentación, `range()` genera una secuencia de números enteros a partir del valor del parámetro `inicio` hasta el valor del parámetro `fin`, de acuerdo con el valor del parámetro `paso`. Si `inicio` no es especificado, el valor por defecto es `0`. Si `paso` no es especificado, el valor por defecto es `1`.\n",
        "\n",
        "\n"
      ],
      "metadata": {
        "id": "6VgjyoQtPHBM"
      }
    },
    {
      "cell_type": "markdown",
      "source": [
        "Vamos a recrear el mismo contador `while` con el lazo `for`."
      ],
      "metadata": {
        "id": "ryn0hfdlUwC8"
      }
    },
    {
      "cell_type": "code",
      "source": [],
      "metadata": {
        "id": "KkL1wUIj9jL4"
      },
      "execution_count": null,
      "outputs": []
    },
    {
      "cell_type": "code",
      "source": [
        "#6 - Escribe un programa que genere la tabla de multiplicar de un número entero del 1 al 10,\n",
        "#según la elección del usuario. Como ejemplo, para el número 2, la tabla de multiplicar debe mostrarse en el siguiente formato:\n",
        "\n",
        "# #Tabla de multiplicar del 2:\n",
        "# 2 x 1 = 2\n",
        "# 2 x 2 = 4\n",
        "# [...]\n",
        "# 2 x 10 = 20\n",
        "\n",
        "tabla = int(input(\"Tabla de multiplicar del: \"))\n",
        "contador = 1\n",
        "\n",
        "for c in range(1,11):\n",
        "  multi = tabla * contador\n",
        "  contador += 1\n",
        "\n",
        "  print(\"{} X {} = {}\".format(tabla,c,multi))\n",
        "\n",
        "\n"
      ],
      "metadata": {
        "id": "uXIZnLSr9jOu",
        "colab": {
          "base_uri": "https://localhost:8080/"
        },
        "outputId": "8ba3a5a3-15ad-483c-95b8-e828585f2110"
      },
      "execution_count": 7,
      "outputs": [
        {
          "output_type": "stream",
          "name": "stdout",
          "text": [
            "Tabla de multiplicar del: 1\n",
            "1 X 1 = 1\n",
            "1 X 2 = 2\n",
            "1 X 3 = 3\n",
            "1 X 4 = 4\n",
            "1 X 5 = 5\n",
            "1 X 6 = 6\n",
            "1 X 7 = 7\n",
            "1 X 8 = 8\n",
            "1 X 9 = 9\n",
            "1 X 10 = 10\n"
          ]
        }
      ]
    },
    {
      "cell_type": "markdown",
      "source": [
        "# Estructuras de datos"
      ],
      "metadata": {
        "id": "8noP8OJ0Vhux"
      }
    },
    {
      "cell_type": "code",
      "source": [
        "#7 - Los números primos tienen diversas aplicaciones en Ciencia de Datos, como en criptografía y seguridad.\n",
        "#Un número primo es aquel que es divisible solo por sí mismo\n",
        "#y por 1. Por lo tanto, crea un programa que solicite un número entero y determine si es un número primo o no.\n",
        "\n",
        "numero_usuario = int(input(\"Agrega un numero: \"))\n",
        "print(\"Vamos a determinar si tu numero es primo o no\")\n",
        "\n",
        "contador = 1\n",
        "lista =[]\n",
        "\n",
        "while numero_usuario >= contador:\n",
        "  division = round(numero_usuario / contador,2)\n",
        "  contador += 1\n",
        "  lista.append(division)\n",
        "\n",
        "# Tu lista de números\n",
        "\n",
        "# Inicializamos contadores\n",
        "enteros = 0\n",
        "decimales = 0\n",
        "\n",
        "for n in lista:\n",
        "    if isinstance(n, int):\n",
        "        enteros += 1\n",
        "    elif isinstance(n, float):\n",
        "        if n.is_integer():\n",
        "            enteros += 1  # 4.0 y 6.0 también son enteros matemáticamente\n",
        "        else:\n",
        "            decimales += 1\n",
        "\n",
        "if enteros == 2:\n",
        "  print(\"Tu numero es primo\")\n",
        "else:\n",
        "  print(\"Tu numero no es primo\")\n",
        "\n",
        "print(lista)\n",
        "\n",
        "\n",
        "\n",
        "\n",
        "#numero primo hay dos numeros enteros en el resultado. No primo hay mas.\n",
        "\n",
        "\n",
        "\n"
      ],
      "metadata": {
        "colab": {
          "base_uri": "https://localhost:8080/"
        },
        "id": "T0__3NCCxlH5",
        "outputId": "6dd0906a-1305-463e-e1bd-cd71410dce82"
      },
      "execution_count": 39,
      "outputs": [
        {
          "output_type": "stream",
          "name": "stdout",
          "text": [
            "Agrega un numero: 7\n",
            "Vamos a determinar si tu numero es primo o no\n",
            "Tu numero es primo\n",
            "[7.0, 3.5, 2.33, 1.75, 1.4, 1.17, 1.0]\n"
          ]
        }
      ]
    },
    {
      "cell_type": "code",
      "source": [
        "# 8 - Vamos a comprender la distribución de edades de los pensionistas de una empresa de seguros.\n",
        "# Escribe un programa que lea las edades de una cantidad no informada de clientes\n",
        "#y muestre la distribución en los intervalos [0-25], [26-50], [51-75] y [76-100]. La entrada de datos se detendrá al ingresar un número negativo.\n",
        "\n",
        "edad_usuario = 0\n",
        "\n",
        "contador = 1\n",
        "lista_0_25 =[]\n",
        "lista_26_50 =[]\n",
        "lista_51_75 =[]\n",
        "lista_75_10 =[]\n",
        "\n",
        "while edad_usuario >= 0:\n",
        "  edad_usuario = int(input(\"Cual es tu edad: \"))\n",
        "  if 0 <= edad_usuario <=25:\n",
        "    lista_0_25.append(edad_usuario)\n",
        "    lista_0_25.sort(reverse=False)\n",
        "    print(\"{} años de edad esta entre [0-25]\".format(edad_usuario))\n",
        "  elif 26 <= edad_usuario <=50:\n",
        "    lista_26_50.append(edad_usuario)\n",
        "    lista_26_50.sort(reverse=False)\n",
        "    print(\"{} años de edad esta entre [26-50]\".format(edad_usuario))\n",
        "  elif 51 <= edad_usuario <=75:\n",
        "    lista_51_75.append(edad_usuario)\n",
        "    lista_51_75.sort(reverse=False)\n",
        "    print(\"{} años de edad esta entre [51-75]\".format(edad_usuario))\n",
        "  elif 76 <= edad_usuario <=100:\n",
        "    lista_75_10.append(edad_usuario)\n",
        "    lista_75_10.sort(reverse=False)\n",
        "    print(\"{} años de edad esta entre [76-100]\".format(edad_usuario))\n",
        "  else:\n",
        "   print(\"{} es una edad no valida\".format(edad_usuario))\n",
        "13\n",
        "print(\"Estas son las edade de 0-25 {}\".format(lista_0_25))\n",
        "print(\"Estas son las edade de 26-50 {}\".format(lista_26_50))\n",
        "print(\"Estas son las edade de 51-75 {}\".format(lista_51_75))\n",
        "print(\"Estas son las edade de 76-100 {}\".format(lista_75_10))\n",
        "\n",
        "\n",
        "\n",
        "\n"
      ],
      "metadata": {
        "colab": {
          "base_uri": "https://localhost:8080/"
        },
        "id": "Kcli3WPzXEJH",
        "outputId": "f46eb4c9-bb8d-48af-a5ce-72a0de59a1d9"
      },
      "execution_count": 18,
      "outputs": [
        {
          "output_type": "stream",
          "name": "stdout",
          "text": [
            "Cual es tu edad: 10\n",
            "10 años de edad esta entre [0-25]\n",
            "Cual es tu edad: 11\n",
            "11 años de edad esta entre [0-25]\n",
            "Cual es tu edad: 15\n",
            "15 años de edad esta entre [0-25]\n",
            "Cual es tu edad: 25\n",
            "25 años de edad esta entre [0-25]\n",
            "Cual es tu edad: 26\n",
            "26 años de edad esta entre [26-50]\n",
            "Cual es tu edad: 21\n",
            "21 años de edad esta entre [0-25]\n",
            "Cual es tu edad: 30\n",
            "30 años de edad esta entre [26-50]\n",
            "Cual es tu edad: 40\n",
            "40 años de edad esta entre [26-50]\n",
            "Cual es tu edad: 50\n",
            "50 años de edad esta entre [26-50]\n",
            "Cual es tu edad: 60\n",
            "60 años de edad esta entre [51-75]\n",
            "Cual es tu edad: 32\n",
            "32 años de edad esta entre [26-50]\n",
            "Cual es tu edad: 48\n",
            "48 años de edad esta entre [26-50]\n",
            "Cual es tu edad: 78\n",
            "78 años de edad esta entre [76-100]\n",
            "Cual es tu edad: 69\n",
            "69 años de edad esta entre [51-75]\n",
            "Cual es tu edad: 58\n",
            "58 años de edad esta entre [51-75]\n",
            "Cual es tu edad: -5\n",
            "-5 es una edad no valida\n",
            "Estas son las edade de 0-25 [10, 11, 15, 21, 25]\n",
            "Estas son las edade de 26-50 [26, 30, 32, 40, 48, 50]\n",
            "Estas son las edade de 51-75 [58, 60, 69]\n",
            "Estas son las edade de 76-100 [78]\n"
          ]
        },
        {
          "output_type": "execute_result",
          "data": {
            "text/plain": [
              "1236"
            ]
          },
          "metadata": {},
          "execution_count": 18
        }
      ]
    },
    {
      "cell_type": "code",
      "source": [
        "#9 - En una elección para la gerencia de una empresa con 20 empleados, hay cuatro candidatos.\n",
        "#Escribe un programa que calcule al ganador de la elección. La votación se realizó de la siguiente manera:\n",
        "\n",
        "#Cada empleado votó por uno de los cuatro candidatos (representados por los números 1, 2, 3 y 4).\n",
        "\n",
        "#También se contaron los votos nulos (representados por el número 5) y los votos en blanco (representados por el número 6).\n",
        "\n",
        "#Al final de la votación, el programa debe mostrar el número total de votos para cada candidato, los votos nulos y los votos en blanco.\n",
        "#Además, debe calcular y mostrar el porcentaje de votos nulos con respecto al total de votos y el porcentaje de votos en blanco con respecto al total de votos.\n",
        "\n",
        "\n",
        "#Empleados = 20\n",
        "#candidatos = 1,2,3,4\n",
        "\n",
        "#votos_nulos = 5\n",
        "#votos_blanco =6\n",
        "\n",
        "#Range(1,21)\n",
        "\n",
        "cand1 = 0\n",
        "cand2 = 0\n",
        "cand3 = 0\n",
        "cand4 = 0\n",
        "nulos = 0\n",
        "blanco = 0\n",
        "voto = 0\n",
        "\n",
        "\n",
        "for n in range(1,21):\n",
        "  voto = int(input(\"Elige a tu candidato de la lista, 1, 2, 3, 4: \"))\n",
        "  if voto == 1:\n",
        "    cand1 += 1\n",
        "  elif voto == 2:\n",
        "    cand2 += 1\n",
        "  elif  voto == 3:\n",
        "    cand3 += 1\n",
        "  elif voto == 4:\n",
        "    cand4 += 1\n",
        "  elif voto == 5:\n",
        "    nulos += 1\n",
        "  elif voto == 6:\n",
        "    blanco += 1\n",
        "  else:\n",
        "    print(\"Voto no valido\")\n",
        "\n",
        "print(\" Candidadto No#1 obtuvo {} votos\".format(cand1))\n",
        "print(\" Candidadto No#2 obtuvo {} votos\".format(cand2))\n",
        "print(\" Candidadto No#3 obtuvo {} votos\".format(cand3))\n",
        "print(\" Candidadto No#4 obtuvo {} votos\".format(cand4))\n",
        "print(\" {} votos nulos\".format(nulos))\n",
        "print(\" {} votos en blanco\".format(blanco))\n",
        "\n",
        "\n",
        "total_votos = sum([cand1,cand2,cand3,cand4,nulos,blanco])\n",
        "v = [cand1,cand2,cand3,cand4,nulos,blanco]\n",
        "vn = [\"Candidato 1\",\"Candidato 2\",\"Candidato 3\",\"Candidato 4\",\"nulos\",\"blanco\"]\n",
        "\n",
        "porcentaje_nulos = (nulos/total_votos) * 100\n",
        "porcentaje_blanco = (blanco/total_votos) * 100\n",
        "max_value = max(v) #Maximo valor de los votos\n",
        "ganador_idx = v.index(max_value)#Primer index de los votantes con mayor numero\n",
        "winner = vn[ganador_idx]\n",
        "print(\"Se registraron un total de {} votos, un %{} de votos nulos\\n y un %{} de votos en blanco. Mas el ganador fue el {}\".format(total_votos,porcentaje_nulos,porcentaje_blanco,winner))\n",
        "\n",
        "\n",
        "\n",
        "\n",
        "\n",
        "\n",
        "\n",
        "\n"
      ],
      "metadata": {
        "colab": {
          "base_uri": "https://localhost:8080/"
        },
        "id": "B7xXXtEgtDfO",
        "outputId": "e031d207-def9-43aa-f9e6-62923c982c22"
      },
      "execution_count": 33,
      "outputs": [
        {
          "output_type": "stream",
          "name": "stdout",
          "text": [
            "Elige a tu candidato de la lista, 1, 2, 3, 4: 5\n",
            "Elige a tu candidato de la lista, 1, 2, 3, 4: 5\n",
            "Elige a tu candidato de la lista, 1, 2, 3, 4: 1\n",
            "Elige a tu candidato de la lista, 1, 2, 3, 4: 1\n",
            "Elige a tu candidato de la lista, 1, 2, 3, 4: 1\n",
            "Elige a tu candidato de la lista, 1, 2, 3, 4: 1\n",
            "Elige a tu candidato de la lista, 1, 2, 3, 4: 2\n",
            "Elige a tu candidato de la lista, 1, 2, 3, 4: 2\n",
            "Elige a tu candidato de la lista, 1, 2, 3, 4: 2\n",
            "Elige a tu candidato de la lista, 1, 2, 3, 4: 2\n",
            "Elige a tu candidato de la lista, 1, 2, 3, 4: 3\n",
            "Elige a tu candidato de la lista, 1, 2, 3, 4: 3\n",
            "Elige a tu candidato de la lista, 1, 2, 3, 4: 3\n",
            "Elige a tu candidato de la lista, 1, 2, 3, 4: 3\n",
            "Elige a tu candidato de la lista, 1, 2, 3, 4: 4\n",
            "Elige a tu candidato de la lista, 1, 2, 3, 4: 4\n",
            "Elige a tu candidato de la lista, 1, 2, 3, 4: 4\n",
            "Elige a tu candidato de la lista, 1, 2, 3, 4: 4\n",
            "Elige a tu candidato de la lista, 1, 2, 3, 4: 1\n",
            "Elige a tu candidato de la lista, 1, 2, 3, 4: 1\n",
            " Candidadto No#1 obtuvo 6 votos\n",
            " Candidadto No#2 obtuvo 4 votos\n",
            " Candidadto No#3 obtuvo 4 votos\n",
            " Candidadto No#4 obtuvo 4 votos\n",
            " 2 votos nulos\n",
            " 0 votos en blanco\n",
            "Se registraron un total de 20 votos, un %10.0 de votos nulos\n",
            " y un %0.0 de votos en blanco. Mas el ganador fue el Candidato 1\n",
            "6\n"
          ]
        }
      ]
    },
    {
      "cell_type": "markdown",
      "source": [
        "Un conjunto de elementos es una colección de items, que son almacenados juntos de manera organizada. Algunos ejemplos de conjuntos de elementos en Python son las listas, los strings y los diccionarios."
      ],
      "metadata": {
        "id": "xpEUkefTu8fY"
      }
    },
    {
      "cell_type": "markdown",
      "source": [
        "## Listas"
      ],
      "metadata": {
        "id": "THSg4KYLwxIb"
      }
    },
    {
      "cell_type": "markdown",
      "source": [
        "Las listas pueden almacenar una colección de items en orden. Ellas son delimitadas por corchetes `[]` y sus elementos son separados por comas.\n",
        "\n",
        "Estas pueden almacenar cualquier tipo de items, incluyendo números, strings, objetos, otras listas, entre otros. También nos permiten almacenar items de tipos de datos diferentes juntos en una única lista."
      ],
      "metadata": {
        "id": "dzpsiqrOyJcK"
      }
    },
    {
      "cell_type": "code",
      "source": [
        "lista = ['Penélope Camacho',9.5,9.0,9.7,True]\n",
        "lista"
      ],
      "metadata": {
        "id": "DO3TBj7nAYeG",
        "colab": {
          "base_uri": "https://localhost:8080/"
        },
        "outputId": "001d3b38-d420-4a62-a287-186344cc905c"
      },
      "execution_count": 34,
      "outputs": [
        {
          "output_type": "execute_result",
          "data": {
            "text/plain": [
              "['Penélope Camacho', 9.5, 9.0, 9.7, True]"
            ]
          },
          "metadata": {},
          "execution_count": 34
        }
      ]
    },
    {
      "cell_type": "code",
      "source": [
        "#Nos permite almacenar una coleccion de itema, cambiarlos y lo que queramos:\n",
        "#Elementos separados por comas.\n",
        "#Almacenamos objetos, tuplas con diccionarios.\n",
        "#Las listas inician con el cero.\n",
        "\n",
        "\n",
        "type(lista)"
      ],
      "metadata": {
        "id": "DO2ubP9N9D_2",
        "colab": {
          "base_uri": "https://localhost:8080/"
        },
        "outputId": "300bc5d1-8cd7-4b35-bac2-1fcdfb5f8511"
      },
      "execution_count": 35,
      "outputs": [
        {
          "output_type": "execute_result",
          "data": {
            "text/plain": [
              "list"
            ]
          },
          "metadata": {},
          "execution_count": 35
        }
      ]
    },
    {
      "cell_type": "code",
      "source": [
        "lista[2]# Podemos llamar los datos con el valor que tiene en la lista\n",
        "\n",
        "for n in lista: #Podemos llamar los elementos de la lista un for\n",
        "  print(n)"
      ],
      "metadata": {
        "colab": {
          "base_uri": "https://localhost:8080/"
        },
        "id": "tj0sSr8m_qF8",
        "outputId": "3de31a02-eee4-45a5-d123-592b7c9dcd28"
      },
      "execution_count": 37,
      "outputs": [
        {
          "output_type": "stream",
          "name": "stdout",
          "text": [
            "Penélope Camacho\n",
            "9.5\n",
            "9.0\n",
            "9.7\n",
            "True\n"
          ]
        }
      ]
    },
    {
      "cell_type": "markdown",
      "source": [
        "Las listas son organizadas en Python porque **cada elemento de la lista tiene un índice que indica su posición al interior de la lista**. Los índices comienzan en 0 van hasta el tamaño de la lista menos 1."
      ],
      "metadata": {
        "id": "qUz3sJNl6LgK"
      }
    },
    {
      "cell_type": "markdown",
      "source": [
        "Tenemos entonces 5 elementos con índices que varían de 0 a 4, ordenadamente:\n",
        "\n",
        "```\n",
        "#             [0]           [1]   [2]   [3]    [4]\n",
        "lista = ['Penélope Camacho', 9.5 , 9.0 , 9.7 , True]\n",
        "```\n",
        "\n",
        "En Python tenemos también los índices **negativos** que se inician en el último elemento con el valor de `-1` y avanzan en el universo de los negativos hasta llegar al 1° elemento:\n",
        "\n",
        "```\n",
        "#             [-5]         [-4]  [-3]  [-2]   [-1]\n",
        "lista = ['Penélope Camacho', 9.5 , 9.0 , 9.7 , True]\n",
        "```\n",
        "\n",
        "Logramos seleccionar separadamente cada elemento a través de sus respectivos índices. Colocando el nombre de la lista y en seguida el índice que será seleccionado."
      ],
      "metadata": {
        "id": "rLf-Qg526hFD"
      }
    },
    {
      "cell_type": "code",
      "source": [],
      "metadata": {
        "id": "4hco1Zqy88Kw"
      },
      "execution_count": null,
      "outputs": []
    },
    {
      "cell_type": "code",
      "source": [],
      "metadata": {
        "id": "M8lH0I2288Ph"
      },
      "execution_count": null,
      "outputs": []
    },
    {
      "cell_type": "markdown",
      "source": [
        "Una forma más dinámica de trabajar item a item en una lista es utilizando un lazo `for` para leer un elemento a la vez."
      ],
      "metadata": {
        "id": "6TaE1ijmBTCd"
      }
    },
    {
      "cell_type": "code",
      "source": [],
      "metadata": {
        "id": "rBx4Yu1786Sy"
      },
      "execution_count": null,
      "outputs": []
    },
    {
      "cell_type": "markdown",
      "source": [
        "**Situación**: La nota `9.0` de Penélope necesita ser ajustada pues ganó 1 punto en su última nota por participación en clase. Entonces es necesario realizar un cambio en el índice `2` de `9.0` a `10.0`."
      ],
      "metadata": {
        "id": "Dh1_HnIVvucY"
      }
    },
    {
      "cell_type": "code",
      "source": [
        "#Podemos asignar un nuevo valor en unas lista:\n",
        "\n",
        "print(lista)\n",
        "lista [2] = 10.0\n",
        "print(lista)"
      ],
      "metadata": {
        "id": "bVPoZg668z3T",
        "colab": {
          "base_uri": "https://localhost:8080/"
        },
        "outputId": "2fc9bfe2-0d2f-417a-9cbc-820dfa10f807"
      },
      "execution_count": 43,
      "outputs": [
        {
          "output_type": "stream",
          "name": "stdout",
          "text": [
            "['Penélope Camacho', 9.5, 10.0, 9.7, True]\n",
            "['Penélope Camacho', 9.5, 10.0, 9.7, True]\n"
          ]
        }
      ]
    },
    {
      "cell_type": "code",
      "source": [
        "print(lista)\n",
        "promedio = round((lista[1] + lista[2] + lista[3]) /3, 2)\n",
        "print(promedio)"
      ],
      "metadata": {
        "id": "Jo_PBQ0g8z7D",
        "colab": {
          "base_uri": "https://localhost:8080/"
        },
        "outputId": "37ea81a8-3f2b-498b-a959-7ba318deac3b"
      },
      "execution_count": 46,
      "outputs": [
        {
          "output_type": "stream",
          "name": "stdout",
          "text": [
            "['Penélope Camacho', 9.5, 10.0, 9.7, True]\n",
            "9.73\n"
          ]
        }
      ]
    },
    {
      "cell_type": "markdown",
      "source": [
        "También podemos calcular el promedio del estudiante a partir de los datos que tenemos."
      ],
      "metadata": {
        "id": "53XduzXkycAf"
      }
    },
    {
      "cell_type": "code",
      "source": [
        "lenguaje = 'Python'\n",
        "print(lenguaje[0], lenguaje[1], lenguaje[2], lenguaje[3], lenguaje[4], lenguaje[5])\n",
        "lista2 = lenguaje.split(\"t\")\n",
        "print(lista2)\n",
        "\n",
        "pregunta ='¿Quién vino primero? ¿El huevo? ¿O fue la serpiente?'#Usando delimitador se elimina el delimitador\n",
        "lista_palabras = pregunta.split('¿')\n",
        "print(lista_palabras)\n",
        "\n",
        "pregunta = '¿Quién vino primero? ¿El huevo? ¿O fue la serpiente?'#Sin usar delimitador se utiliza espacio en blanco.\n",
        "lista_palabras = pregunta.split()\n",
        "print(lista_palabras)\n",
        "\n",
        "#{Join (), convertir una cadena a un string"
      ],
      "metadata": {
        "id": "SIH61Rrb8yv4",
        "colab": {
          "base_uri": "https://localhost:8080/"
        },
        "outputId": "7c413ecd-cab1-4fe3-f81b-d0adaa1044db"
      },
      "execution_count": 56,
      "outputs": [
        {
          "output_type": "stream",
          "name": "stdout",
          "text": [
            "P y t h o n\n",
            "['Py', 'hon']\n",
            "['¿Quién', 'vino', 'primero?', '¿El', 'huevo?', '¿O', 'fue', 'la', 'serpiente?']\n"
          ]
        }
      ]
    },
    {
      "cell_type": "code",
      "source": [
        "#{Join (), convertir una cadena a un string\n",
        "mezclas = ['Pinturas: rojo, azul y amarillo',\n",
        "            'Verde: mezcla de azul y amarillo',\n",
        "            'Naranja: mezcla de rojo y amarillo',\n",
        "            'Morado: mezcla de rojo y azul']\n",
        "unificador = ', '\n",
        "cadena_mezclas = unificador.join(mezclas)\n",
        "print(cadena_mezclas)"
      ],
      "metadata": {
        "colab": {
          "base_uri": "https://localhost:8080/"
        },
        "id": "w70KMbPQFxLE",
        "outputId": "c8a5e980-f850-4362-bfde-01a1e6c50dc0"
      },
      "execution_count": 62,
      "outputs": [
        {
          "output_type": "stream",
          "name": "stdout",
          "text": [
            "Pinturas: rojo, azul y amarillo, Verde: mezcla de azul y amarillo, Naranja: mezcla de rojo y amarillo, Morado: mezcla de rojo y azul\n"
          ]
        }
      ]
    },
    {
      "cell_type": "markdown",
      "source": [
        "## Manipulación de listas\n",
        "\n",
        "Las listas son muy útiles en Python porque nos permiten almacenar y acceder a una colección de items de manera organizada y rápida. Estas también ofrecen muchos métodos útiles para manipular los itens almacenados, como adicionar, remover, clasificar y buscar elementos."
      ],
      "metadata": {
        "id": "d-iYr10-y4qw"
      }
    },
    {
      "cell_type": "markdown",
      "source": [
        "#### Cantidad de elementos\n",
        "\n",
        "Usamos la función [`len()`](https://docs.python.org/3/library/functions.html#len) para descubrir la cantidad de elementos de un conjunto."
      ],
      "metadata": {
        "id": "ZLqx9A97XVB_"
      }
    },
    {
      "cell_type": "code",
      "source": [
        "\n",
        "print(len(lista))\n",
        "print(lista[0:2]) #Inicio y fin\n",
        "print(lista[:3])\n"
      ],
      "metadata": {
        "id": "6q1Tmm7P8wQf",
        "colab": {
          "base_uri": "https://localhost:8080/"
        },
        "outputId": "7439d127-a191-4109-cf47-a7cceb68b6dd"
      },
      "execution_count": 71,
      "outputs": [
        {
          "output_type": "stream",
          "name": "stdout",
          "text": [
            "5\n",
            "['Penélope Camacho', 9.5]\n",
            "['Penélope Camacho', 9.5, 10.0]\n"
          ]
        }
      ]
    },
    {
      "cell_type": "markdown",
      "source": [
        "#### Partición\n",
        "\n",
        "La partición de listas por indexación en Python es una técnica muy útil para seleccionar un subconjunto de elementos de una lista. Esta se realiza usando la sintaxis `lista[inicio:fin]`, donde `inicio` es el índice del primer elemento que será incluído en la partición `fin` es el índice del primer elemento que será excluído de la partición."
      ],
      "metadata": {
        "id": "Z5tpstlHJss3"
      }
    },
    {
      "cell_type": "code",
      "source": [
        "print(lista[3:])#Inicio y final de la lista\n",
        "print(lista[:])#Todos los elementos."
      ],
      "metadata": {
        "id": "NctvJTTU8uV9",
        "colab": {
          "base_uri": "https://localhost:8080/"
        },
        "outputId": "262dd7ff-c404-45c3-bab4-cb3b2ce87640"
      },
      "execution_count": 73,
      "outputs": [
        {
          "output_type": "stream",
          "name": "stdout",
          "text": [
            "[9.7, True]\n",
            "['Penélope Camacho', 9.5, 10.0, 9.7, True]\n"
          ]
        }
      ]
    },
    {
      "cell_type": "code",
      "source": [],
      "metadata": {
        "id": "bQZUwldj8uY2"
      },
      "execution_count": null,
      "outputs": []
    },
    {
      "cell_type": "markdown",
      "source": [
        "#### [`append()`](https://docs.python.org/3/tutorial/datastructures.html#:~:text=of%20list%20objects%3A-,list.append(x),-Add%20an%20item)\n",
        "\n",
        "Añade un elemento al final de la lista."
      ],
      "metadata": {
        "id": "O0RRyabkRzZC"
      }
    },
    {
      "cell_type": "code",
      "source": [
        "#Añadimos valor a nuestra lista: Podemos agregar un valor o podemos llamar a la variable.\n",
        "#append los coloca como tal, si es lista, como lista, mas extende, agrega valores a la lista.\n",
        "\n",
        "lista.append(promedio)\n",
        "print(lista)"
      ],
      "metadata": {
        "id": "_Q0oODwa8spC",
        "colab": {
          "base_uri": "https://localhost:8080/"
        },
        "outputId": "e5b3d803-6245-4366-f870-99b1357abe31"
      },
      "execution_count": 109,
      "outputs": [
        {
          "output_type": "stream",
          "name": "stdout",
          "text": [
            "[10.0, 8.0, 9.0, 5, 9.73]\n"
          ]
        }
      ]
    },
    {
      "cell_type": "code",
      "source": [],
      "metadata": {
        "id": "RM894r2M8sse"
      },
      "execution_count": null,
      "outputs": []
    },
    {
      "cell_type": "markdown",
      "source": [
        "#### [`extend()`](https://docs.python.org/3/tutorial/datastructures.html#:~:text=list.extend(iterable))\n",
        "\n",
        "Añade varios elementos al final de la lista.\n",
        "\n",
        "Añadiremos las notas `[10.0,8.0,9.0]` En la lista de Penélope Camacho."
      ],
      "metadata": {
        "id": "uQV91XMsUOJD"
      }
    },
    {
      "cell_type": "code",
      "source": [
        "#Extendemos la lista original, con nuevos valores. Debemos agregar en formato lista si queremos sea varios\n",
        "lista.extend([10.0,8.0,9.0])\n",
        "lista.extend([5])\n",
        "print(lista)"
      ],
      "metadata": {
        "id": "6Zk2MpMw8rQc",
        "colab": {
          "base_uri": "https://localhost:8080/"
        },
        "outputId": "4fba4453-a369-42a6-ffc2-f4dfdd08be6d"
      },
      "execution_count": 110,
      "outputs": [
        {
          "output_type": "stream",
          "name": "stdout",
          "text": [
            "[10.0, 8.0, 9.0, 5, 9.73, 10.0, 8.0, 9.0, 5]\n"
          ]
        }
      ]
    },
    {
      "cell_type": "code",
      "source": [
        "print(lista)"
      ],
      "metadata": {
        "id": "NnoKkoWb8rTQ"
      },
      "execution_count": null,
      "outputs": []
    },
    {
      "cell_type": "markdown",
      "source": [
        "*A continuación te mostraremos lo que no puede realizarse con* `append`."
      ],
      "metadata": {
        "id": "IVJvkTwNUk6M"
      }
    },
    {
      "cell_type": "code",
      "source": [],
      "metadata": {
        "id": "u3Eub2ZL8pp3"
      },
      "execution_count": null,
      "outputs": []
    },
    {
      "cell_type": "code",
      "source": [],
      "metadata": {
        "id": "tsKK5Ne58pvN"
      },
      "execution_count": null,
      "outputs": []
    },
    {
      "cell_type": "markdown",
      "source": [
        "#### [`remove()`](https://docs.python.org/3/tutorial/datastructures.html#:~:text=append(x).-,list.remove(x),-Remove%20the%20first)\n",
        "\n",
        "Remueve un elemento específico de la lista."
      ],
      "metadata": {
        "id": "dPGM5gpyUX1z"
      }
    },
    {
      "cell_type": "code",
      "source": [
        "print(lista)"
      ],
      "metadata": {
        "id": "mmboODPc8nd5",
        "colab": {
          "base_uri": "https://localhost:8080/"
        },
        "outputId": "1f57f3dc-7958-4c18-b137-4b1f8879e7f2"
      },
      "execution_count": 111,
      "outputs": [
        {
          "output_type": "stream",
          "name": "stdout",
          "text": [
            "[10.0, 8.0, 9.0, 5, 9.73, 10.0, 8.0, 9.0, 5]\n"
          ]
        }
      ]
    },
    {
      "cell_type": "code",
      "source": [
        "# lista.append([200,100])#agrega el valor como tal. No funciono como tupla, su colocar varios valores lo agrega como una solo valor. Valor unico.\n",
        "# lista.extend([888])#Extendo no funciona con un valor int unico. Funciona con una lista de datos. Varios valores.\n",
        "# lista.insert(0,600) #Inserta ubn valor en un lugar especifico de tu lista. ist.insert(i, x)\n",
        "#lista.remove(600) #remueve el primero valor de tu lista que cumpla con la condicion.\n",
        "#lista.pop(3) #remueve el valor especifico de una lista list.pop([i])\n",
        "#lista.clear()\n",
        "#ist.index(x[, start[, end]])\n",
        "#lista.index() La utilizamos para saber que lugar tiene en la lista.\n",
        "numero = lista.index(600)\n",
        "print(lista)\n",
        "print(numero)\n",
        "\n",
        "total = len(lista)\n",
        "print(total)\n",
        "\n",
        "if numero +1 == total :\n",
        "  print(\"Fuiste ultimo\")\n",
        "else:\n",
        "  print(\"Al menos no fuiste ultimo\")\n"
      ],
      "metadata": {
        "id": "T_w6vVgV8nh_",
        "colab": {
          "base_uri": "https://localhost:8080/"
        },
        "outputId": "adb32701-8387-4997-d339-2af76c870433"
      },
      "execution_count": 151,
      "outputs": [
        {
          "output_type": "stream",
          "name": "stdout",
          "text": [
            "[600, 600, 600, 600, 600, 600, 600, 600, 888]\n",
            "0\n",
            "9\n",
            "Al menos no fuiste ultimo\n"
          ]
        }
      ]
    },
    {
      "cell_type": "code",
      "source": [
        "razas_de_perros = ['Labrador Retriever','Bulldog Francés','Pastor Alemán','Poodle']\n",
        "\n",
        "#insert:\n",
        "#razas_de_perros.insert(1, 'Golden Retriever') #Posicion 1, ya que tenemos 0.\n",
        "#print(razas_de_perros)\n",
        "\n",
        "#Metodo pop Se elimina el elemnto indicado\n",
        "#razas_de_perros.pop(1)\n",
        "#print(razas_de_perros)\n",
        "\n",
        "#Index\n",
        "\n",
        "print(razas_de_perros.index('Pastor Alemán'))\n",
        "\n",
        "#Sort\n",
        "print(razas_de_perros) #Regular\n",
        "razas_de_perros.sort() # A - Z\n",
        "print(razas_de_perros)\n",
        "razas_de_perros.sort(reverse=True)# Z -A\n",
        "print(razas_de_perros)"
      ],
      "metadata": {
        "colab": {
          "base_uri": "https://localhost:8080/"
        },
        "id": "uKUP_9JtqxLg",
        "outputId": "8977d56f-f2fe-4de3-bf86-a766e098d689"
      },
      "execution_count": 8,
      "outputs": [
        {
          "output_type": "stream",
          "name": "stdout",
          "text": [
            "2\n",
            "['Labrador Retriever', 'Bulldog Francés', 'Pastor Alemán', 'Poodle']\n",
            "['Bulldog Francés', 'Labrador Retriever', 'Pastor Alemán', 'Poodle']\n",
            "['Poodle', 'Pastor Alemán', 'Labrador Retriever', 'Bulldog Francés']\n"
          ]
        }
      ]
    },
    {
      "cell_type": "markdown",
      "source": [
        "## Diccionario"
      ],
      "metadata": {
        "id": "Rc22Vc08YDZ2"
      }
    },
    {
      "cell_type": "markdown",
      "source": [
        "Los diccionarios son un tipo de estructura de datos que almacenan pares de *llave-valor*. Estos son delimitados por llaves `{}` y los pares *llave-valor* son separados por comas.\n",
        "\n",
        "```\n",
        "diccionario = {llave: valor}\n",
        "```\n",
        "\n",
        "La **llave** es un elemento único que identifica a un valor en el diccionario, mientras que el **valor** es el item que será almacenado para la llave. Las llaves y sus respectivos valores se pueden emplear para **cualquier tipo de dato**.\n",
        "\n",
        "Los diccionarios son útiles para almacenar y acceder a los datos de manera organizada y rápida. Se trata de un tipo de conjunto de elementos en Python, pues almacenan una colección de items."
      ],
      "metadata": {
        "id": "PJ-cCKPjeWxL"
      }
    },
    {
      "cell_type": "code",
      "source": [
        "diccionario = {\"llave_1\" : 1, \"llave_2\":2}\n",
        "\n",
        "print(type(diccionario))"
      ],
      "metadata": {
        "id": "NDHhzooE8ld5",
        "colab": {
          "base_uri": "https://localhost:8080/"
        },
        "outputId": "3cf93ebf-32ec-40a6-eba6-1e7485aceb1b"
      },
      "execution_count": 10,
      "outputs": [
        {
          "output_type": "stream",
          "name": "stdout",
          "text": [
            "<class 'dict'>\n"
          ]
        }
      ]
    },
    {
      "cell_type": "code",
      "source": [
        "estudiante = {\"matricula\":789,\n",
        "              \"dia_registro\":25,\n",
        "              \"mes_regristo\":10,\n",
        "              \"grupo\":\"2E\"}\n",
        "print(estudiante)\n",
        "print(estudiante['matricula'])\n",
        "print(\"La matericula del estudiante es: {}\".format(estudiante['matricula']))"
      ],
      "metadata": {
        "id": "AVOzqzy-8lhh",
        "colab": {
          "base_uri": "https://localhost:8080/"
        },
        "outputId": "6307510e-e24a-47e4-d941-183eeebe7fd0"
      },
      "execution_count": 14,
      "outputs": [
        {
          "output_type": "stream",
          "name": "stdout",
          "text": [
            "{'matricula': 789, 'dia_registro': 25, 'mes_regristo': 10, 'grupo': '2E'}\n",
            "789\n",
            "La matericula del estudiante es 789\n"
          ]
        }
      ]
    },
    {
      "cell_type": "code",
      "source": [
        "#sustitur valor\n",
        "\n",
        "estudiante['grupo'] = \"3B\"\n",
        "print(estudiante['grupo'])"
      ],
      "metadata": {
        "colab": {
          "base_uri": "https://localhost:8080/"
        },
        "id": "2_L567eduujr",
        "outputId": "74ea34ec-eb63-4546-cfaa-19425c855d4c"
      },
      "execution_count": 15,
      "outputs": [
        {
          "output_type": "stream",
          "name": "stdout",
          "text": [
            "3B\n"
          ]
        }
      ]
    },
    {
      "cell_type": "code",
      "source": [
        "#add valores:\n",
        "estudiante[\"modalidad\"] = \"remoto\"\n",
        "print(estudiante)\n"
      ],
      "metadata": {
        "colab": {
          "base_uri": "https://localhost:8080/"
        },
        "id": "noSpi1p5vCxe",
        "outputId": "40238996-f907-41f9-9c4e-b8b1f309aa9c"
      },
      "execution_count": 16,
      "outputs": [
        {
          "output_type": "stream",
          "name": "stdout",
          "text": [
            "{'matricula': 789, 'dia_registro': 25, 'mes_regristo': 10, 'grupo': '3B', 'modalidad': 'remoto'}\n"
          ]
        }
      ]
    },
    {
      "cell_type": "code",
      "source": [
        "estudiante"
      ],
      "metadata": {
        "colab": {
          "base_uri": "https://localhost:8080/"
        },
        "id": "uLL0eiFHvYZQ",
        "outputId": "8a03ae22-c95d-4506-d40b-07058fc09512"
      },
      "execution_count": 17,
      "outputs": [
        {
          "output_type": "execute_result",
          "data": {
            "text/plain": [
              "{'matricula': 789,\n",
              " 'dia_registro': 25,\n",
              " 'mes_regristo': 10,\n",
              " 'grupo': '3B',\n",
              " 'modalidad': 'remoto'}"
            ]
          },
          "metadata": {},
          "execution_count": 17
        }
      ]
    },
    {
      "cell_type": "markdown",
      "source": [
        "---\n",
        "**Situación:**\n",
        "\n",
        "Vamos a crear un conjunto de datos con las informaciones de matrícula de un estudiante. Los datos son los siguientes:\n",
        "\n",
        "- matrícula: 2000168933\n",
        "- día de registro: 25\n",
        "- mes de registro: 10\n",
        "- grupo: 2E"
      ],
      "metadata": {
        "id": "_JbQ3KMKfkXU"
      }
    },
    {
      "cell_type": "code",
      "source": [
        "len(estudiante)"
      ],
      "metadata": {
        "id": "0lfOu_c38jED",
        "colab": {
          "base_uri": "https://localhost:8080/"
        },
        "outputId": "2b7bb5d5-559f-4505-8d3d-3731c0c123e6"
      },
      "execution_count": 18,
      "outputs": [
        {
          "output_type": "execute_result",
          "data": {
            "text/plain": [
              "5"
            ]
          },
          "metadata": {},
          "execution_count": 18
        }
      ]
    },
    {
      "cell_type": "code",
      "source": [],
      "metadata": {
        "id": "XIuqpTTy8jHV"
      },
      "execution_count": null,
      "outputs": []
    },
    {
      "cell_type": "markdown",
      "source": [
        "Es posible sustituir los valores dentro de una llave. Por ejemplo, recibimos la información de que el grupo del estudiante que registramos cambio a `'2G'` y ahora necesitamos cambiar el valor de la llave `'grupo'`."
      ],
      "metadata": {
        "id": "8ex5pt2ykDd2"
      }
    },
    {
      "cell_type": "code",
      "source": [
        "estudiante['grupo'] = \"3ro G\"\n",
        "print(estudiante)"
      ],
      "metadata": {
        "id": "kQGlp36b8fyP",
        "colab": {
          "base_uri": "https://localhost:8080/"
        },
        "outputId": "6bb2ec2c-c71f-47c4-9b9b-0f192dcc361c"
      },
      "execution_count": 20,
      "outputs": [
        {
          "output_type": "stream",
          "name": "stdout",
          "text": [
            "{'matricula': 789, 'dia_registro': 25, 'mes_regristo': 10, 'grupo': '3ro G', 'modalidad': 'remoto'}\n"
          ]
        }
      ]
    },
    {
      "cell_type": "code",
      "source": [],
      "metadata": {
        "id": "DnfH_qHi8f17"
      },
      "execution_count": null,
      "outputs": []
    },
    {
      "cell_type": "markdown",
      "source": [
        "También podemos añadir otros datos al diccionario. Vamos a añadir la información sobre la modalidad de estudio, nuestro estudiante estudiará inicialemente en la modalidad EAD.\n",
        "\n",
        "Definiremos una llave llamada `'modalidad'` con el valor `'EAD'`."
      ],
      "metadata": {
        "id": "wB0qRb56mQvv"
      }
    },
    {
      "cell_type": "code",
      "source": [],
      "metadata": {
        "id": "EeLYdlIm8d8a"
      },
      "execution_count": null,
      "outputs": []
    },
    {
      "cell_type": "code",
      "source": [],
      "metadata": {
        "id": "olDIavsm8d_o"
      },
      "execution_count": null,
      "outputs": []
    },
    {
      "cell_type": "markdown",
      "source": [
        "## Profundizando en diccionarios"
      ],
      "metadata": {
        "id": "LJ3o_inroxg_"
      }
    },
    {
      "cell_type": "markdown",
      "source": [
        "#### [`pop()`](https://python-reference.readthedocs.io/en/latest/docs/dict/pop.html)\n",
        "Remueve un item de un diccionario y lo representa en la salida."
      ],
      "metadata": {
        "id": "2N3GLlkSpBiu"
      }
    },
    {
      "cell_type": "code",
      "source": [
        "#Vamos a remover un valor\n",
        "\n",
        "estudiante.pop(\"grupo\")\n",
        "print(estudiante)"
      ],
      "metadata": {
        "id": "ZsSCZx6G8b-T",
        "colab": {
          "base_uri": "https://localhost:8080/"
        },
        "outputId": "3109ec5c-8efe-4b1e-aac1-c6a8c548cd61"
      },
      "execution_count": 21,
      "outputs": [
        {
          "output_type": "stream",
          "name": "stdout",
          "text": [
            "{'matricula': 789, 'dia_registro': 25, 'mes_regristo': 10, 'modalidad': 'remoto'}\n"
          ]
        }
      ]
    },
    {
      "cell_type": "code",
      "source": [],
      "metadata": {
        "id": "7lQ8_jpi8cBR"
      },
      "execution_count": null,
      "outputs": []
    },
    {
      "cell_type": "markdown",
      "source": [
        "#### [`items()`](https://python-reference.readthedocs.io/en/latest/docs/dict/items.html)\n",
        "Retorna una lista de pares `llave-valor` del diccionario."
      ],
      "metadata": {
        "id": "sYZGvJJYrW_y"
      }
    },
    {
      "cell_type": "code",
      "source": [
        "#Lista en tuplas\n",
        "\n",
        "print(estudiante.items())"
      ],
      "metadata": {
        "id": "ncdycLV08an7",
        "colab": {
          "base_uri": "https://localhost:8080/"
        },
        "outputId": "d4cdabf5-bfc3-4dfa-b3ba-aa8761b63993"
      },
      "execution_count": 22,
      "outputs": [
        {
          "output_type": "stream",
          "name": "stdout",
          "text": [
            "dict_items([('matricula', 789), ('dia_registro', 25), ('mes_regristo', 10), ('modalidad', 'remoto')])\n"
          ]
        }
      ]
    },
    {
      "cell_type": "markdown",
      "source": [
        "#### [`keys()`](https://python-reference.readthedocs.io/en/latest/docs/dict/keys.html)\n",
        "Retorna una lista de las llaves del diccionario."
      ],
      "metadata": {
        "id": "Lb0utNFGrZBY"
      }
    },
    {
      "cell_type": "code",
      "source": [
        "#Cuales son las llaves\n",
        "print(estudiante.keys())"
      ],
      "metadata": {
        "id": "eZo0biaM8ZVs",
        "colab": {
          "base_uri": "https://localhost:8080/"
        },
        "outputId": "cf8aa406-14cc-4f19-c3e6-91d16363d07b"
      },
      "execution_count": 28,
      "outputs": [
        {
          "output_type": "stream",
          "name": "stdout",
          "text": [
            "dict_keys(['matricula', 'dia_registro', 'mes_regristo', 'modalidad'])\n"
          ]
        }
      ]
    },
    {
      "cell_type": "markdown",
      "source": [
        "#### [`values()`](https://python-reference.readthedocs.io/en/latest/docs/dict/values.html)\n",
        "Retorna una lista de los valores del diccionario."
      ],
      "metadata": {
        "id": "qKyu3bf9rbtX"
      }
    },
    {
      "cell_type": "code",
      "source": [
        "#Cuales son los valores\n",
        "valores = estudiante.values()\n",
        "print(valores)  # dict_values([1, 2, 3])\n",
        "\n",
        "# Convertir a lista:\n",
        "lista_valores = list(valores)\n",
        "print(lista_valores)  # [1, 2, 3]\n",
        "\n",
        "keys = estudiante.keys()\n",
        "print(keys)  # dict_values([1, 2, 3])\n",
        "\n",
        "# Convertir a lista:\n",
        "lista_keys = list(keys)\n",
        "print(lista_keys)  # [1, 2, 3]\n"
      ],
      "metadata": {
        "id": "-NxRT9C18Yvo",
        "colab": {
          "base_uri": "https://localhost:8080/"
        },
        "outputId": "ffca7b21-5a58-46a9-c693-7c166f7b76ae"
      },
      "execution_count": 32,
      "outputs": [
        {
          "output_type": "stream",
          "name": "stdout",
          "text": [
            "dict_values([789, 25, 10, 'remoto'])\n",
            "[789, 25, 10, 'remoto']\n",
            "dict_keys(['matricula', 'dia_registro', 'mes_regristo', 'modalidad'])\n",
            "['matricula', 'dia_registro', 'mes_regristo', 'modalidad']\n"
          ]
        }
      ]
    },
    {
      "cell_type": "markdown",
      "source": [
        "### Lectura de valores con el lazo `for`"
      ],
      "metadata": {
        "id": "e3XVjR8Frp75"
      }
    },
    {
      "cell_type": "code",
      "source": [
        "#podemos iterar sonbre ellos\n",
        "\n",
        "for llave in estudiante.values():\n",
        "  print(llave)\n"
      ],
      "metadata": {
        "id": "NYcjU-Ip8Xan",
        "colab": {
          "base_uri": "https://localhost:8080/"
        },
        "outputId": "bdd6fd73-538f-4d75-8bef-dff91ef36bf9"
      },
      "execution_count": 35,
      "outputs": [
        {
          "output_type": "stream",
          "name": "stdout",
          "text": [
            "789\n",
            "25\n",
            "10\n",
            "remoto\n"
          ]
        }
      ]
    },
    {
      "cell_type": "code",
      "source": [
        "\n",
        "for llave,valor in estudiante.items():\n",
        "  print(llave, \"-->\",valor)"
      ],
      "metadata": {
        "id": "aAnpP1Wv8XfJ",
        "colab": {
          "base_uri": "https://localhost:8080/"
        },
        "outputId": "0657a22e-5559-472e-9067-3367a012a928"
      },
      "execution_count": 36,
      "outputs": [
        {
          "output_type": "stream",
          "name": "stdout",
          "text": [
            "matricula --> 789\n",
            "dia_registro --> 25\n",
            "mes_regristo --> 10\n",
            "modalidad --> remoto\n"
          ]
        }
      ]
    },
    {
      "cell_type": "code",
      "source": [
        "\n",
        "for llave,valor in estudiante.items():\n",
        "  print(llave,\"=\",valor)"
      ],
      "metadata": {
        "colab": {
          "base_uri": "https://localhost:8080/"
        },
        "id": "uiTefVbI47_7",
        "outputId": "a8156b3a-45db-4970-a598-7f27b81dcc92"
      },
      "execution_count": 39,
      "outputs": [
        {
          "output_type": "stream",
          "name": "stdout",
          "text": [
            "matricula = 789\n",
            "dia_registro = 25\n",
            "mes_regristo = 10\n",
            "modalidad = remoto\n"
          ]
        }
      ]
    },
    {
      "cell_type": "code",
      "source": [
        "tienda = {'nombres': ['televisión', 'celular', 'notebook', 'geladeira', 'estufa'],\n",
        "          'precios': [2000, 1500, 3500, 4000, 1500]}\n",
        "\n",
        "for clave, elementos in tienda.items():\n",
        "  print(f'Clave: {clave}\\nElementos:')\n",
        "  for dato in elementos:\n",
        "    print(dato)\n"
      ],
      "metadata": {
        "colab": {
          "base_uri": "https://localhost:8080/"
        },
        "id": "D2k28gLr5hvx",
        "outputId": "dd86db7b-ad39-49bb-f294-738a6bb91836"
      },
      "execution_count": 46,
      "outputs": [
        {
          "output_type": "stream",
          "name": "stdout",
          "text": [
            "Clave: nombres\n",
            "Elementos:\n",
            "televisión\n",
            "celular\n",
            "notebook\n",
            "geladeira\n",
            "estufa\n",
            "Clave: precios\n",
            "Elementos:\n",
            "2000\n",
            "1500\n",
            "3500\n",
            "4000\n",
            "1500\n"
          ]
        }
      ]
    },
    {
      "cell_type": "code",
      "source": [
        "compas = {\"Nombres:\": [\"Pedro\",\"Luis\",\"Hector\"], #Zip nos ayuuda a fucionar varias lista/\n",
        "          \"Edades:\": [25,35,60]\n",
        "    }\n",
        "\n",
        "for nombre, edad in zip(compas['Nombres:'],compas[\"Edades:\"]):\n",
        "  print(\"{} tiene {} años de edad\".format(nombre,edad))\n",
        "\n",
        "nombres = compas['Nombres:']\n",
        "edad = compas[\"Edades:\"]\n",
        "\n",
        "print(nombres)\n",
        "print(edad)\n",
        "\n",
        "nueva_lista = list(zip(nombres,edad))\n",
        "print(nueva_lista)"
      ],
      "metadata": {
        "colab": {
          "base_uri": "https://localhost:8080/"
        },
        "id": "EP_d3wDi6QkN",
        "outputId": "01a396dc-db9f-405d-c9e9-28542160a413"
      },
      "execution_count": 106,
      "outputs": [
        {
          "output_type": "stream",
          "name": "stdout",
          "text": [
            "Pedro tiene 25 años de edad\n",
            "Luis tiene 35 años de edad\n",
            "Hector tiene 60 años de edad\n",
            "['Pedro', 'Luis', 'Hector']\n",
            "[25, 35, 60]\n",
            "[('Pedro', 25), ('Luis', 35), ('Hector', 60)]\n"
          ]
        }
      ]
    },
    {
      "cell_type": "code",
      "source": [
        "nombres = [\"Ana\", \"Luis\"]\n",
        "edades = [20, 25, 30]\n",
        "\n",
        "list(zip(nombres, edades))\n",
        "# [('Ana', 20), ('Luis', 25)]\n"
      ],
      "metadata": {
        "colab": {
          "base_uri": "https://localhost:8080/"
        },
        "id": "tQ7rnz7RAkYQ",
        "outputId": "60776425-93bf-42f0-e2c3-6ceaf4d2a602"
      },
      "execution_count": 95,
      "outputs": [
        {
          "output_type": "execute_result",
          "data": {
            "text/plain": [
              "[('Ana', 20), ('Luis', 25)]"
            ]
          },
          "metadata": {},
          "execution_count": 95
        }
      ]
    },
    {
      "cell_type": "code",
      "source": [
        "#Para saber más: funciones incorporadas:\n",
        "\n",
        "precios = 100, 200, -100, 500\n",
        "suma = sum(precios)\n",
        "print(type(suma))"
      ],
      "metadata": {
        "colab": {
          "base_uri": "https://localhost:8080/"
        },
        "id": "V83WHvLoC5Tv",
        "outputId": "84f0fe43-a27d-4c39-ff48-c5eb4ad65211"
      },
      "execution_count": 112,
      "outputs": [
        {
          "output_type": "stream",
          "name": "stdout",
          "text": [
            "<class 'int'>\n"
          ]
        }
      ]
    },
    {
      "cell_type": "code",
      "source": [
        "help(print)"
      ],
      "metadata": {
        "colab": {
          "base_uri": "https://localhost:8080/"
        },
        "id": "-cqKswaMC5X_",
        "outputId": "b15e7a19-de3d-433e-d597-bef5aed95043"
      },
      "execution_count": 113,
      "outputs": [
        {
          "output_type": "stream",
          "name": "stdout",
          "text": [
            "Help on built-in function print in module builtins:\n",
            "\n",
            "print(*args, sep=' ', end='\\n', file=None, flush=False)\n",
            "    Prints the values to a stream, or to sys.stdout by default.\n",
            "    \n",
            "    sep\n",
            "      string inserted between values, default a space.\n",
            "    end\n",
            "      string appended after the last value, default a newline.\n",
            "    file\n",
            "      a file-like object (stream); defaults to the current sys.stdout.\n",
            "    flush\n",
            "      whether to forcibly flush the stream.\n",
            "\n"
          ]
        }
      ]
    },
    {
      "cell_type": "code",
      "source": [
        "lista = [1,2,3]\n",
        "dir(lista)"
      ],
      "metadata": {
        "colab": {
          "base_uri": "https://localhost:8080/"
        },
        "id": "yzSSrQsdC5cY",
        "outputId": "e813dd1b-bd9e-439b-c561-ab0699c30d44"
      },
      "execution_count": 114,
      "outputs": [
        {
          "output_type": "execute_result",
          "data": {
            "text/plain": [
              "['__add__',\n",
              " '__class__',\n",
              " '__class_getitem__',\n",
              " '__contains__',\n",
              " '__delattr__',\n",
              " '__delitem__',\n",
              " '__dir__',\n",
              " '__doc__',\n",
              " '__eq__',\n",
              " '__format__',\n",
              " '__ge__',\n",
              " '__getattribute__',\n",
              " '__getitem__',\n",
              " '__getstate__',\n",
              " '__gt__',\n",
              " '__hash__',\n",
              " '__iadd__',\n",
              " '__imul__',\n",
              " '__init__',\n",
              " '__init_subclass__',\n",
              " '__iter__',\n",
              " '__le__',\n",
              " '__len__',\n",
              " '__lt__',\n",
              " '__mul__',\n",
              " '__ne__',\n",
              " '__new__',\n",
              " '__reduce__',\n",
              " '__reduce_ex__',\n",
              " '__repr__',\n",
              " '__reversed__',\n",
              " '__rmul__',\n",
              " '__setattr__',\n",
              " '__setitem__',\n",
              " '__sizeof__',\n",
              " '__str__',\n",
              " '__subclasshook__',\n",
              " 'append',\n",
              " 'clear',\n",
              " 'copy',\n",
              " 'count',\n",
              " 'extend',\n",
              " 'index',\n",
              " 'insert',\n",
              " 'pop',\n",
              " 'remove',\n",
              " 'reverse',\n",
              " 'sort']"
            ]
          },
          "metadata": {},
          "execution_count": 114
        }
      ]
    },
    {
      "cell_type": "code",
      "source": [
        "#Desafio final:::\n",
        "\n",
        "# - Crea un programa que tenga la siguiente lista con los gastos de una empresa de papel [2172.54,\n",
        "#3701.35, 3518.09, 3456.61, 3249.38, 2840.82, 3891.45, 3075.26, 2317.64, 3219.08]. Con estos valores,\n",
        "#crea un programa que calcule el promedio de gastos. Sugerencia: usa las funciones integradas sum() y len().\n",
        "\n",
        "gastos = [2172.54,3701.35, 3518.09, 3456.61, 3249.38, 2840.82, 3891.45, 3075.26, 2317.64, 3219.08]\n",
        "\n",
        "promedio_gastos = sum(gastos)/len(gastos)\n",
        "\n",
        "print(len(gastos))\n",
        "\n",
        "print(\"${}\".format(round(promedio_gastos,2)))"
      ],
      "metadata": {
        "colab": {
          "base_uri": "https://localhost:8080/"
        },
        "id": "jNYGfQq-C5gU",
        "outputId": "1b9063e5-458d-4fac-bca3-e5971589c2c4"
      },
      "execution_count": 119,
      "outputs": [
        {
          "output_type": "stream",
          "name": "stdout",
          "text": [
            "10\n",
            "$3144.22\n"
          ]
        }
      ]
    },
    {
      "cell_type": "code",
      "source": [
        "#2 - Con los mismos datos de la pregunta anterior, determina cuántas\n",
        "#compras se realizaron por encima de 3000 reales y calcula el porcentaje con respecto al total de compras.\n",
        "\n",
        "ventas_arriba = []\n",
        "gastos = [2172.54,3701.35, 3518.09, 3456.61, 3249.38, 2840.82, 3891.45, 3075.26, 2317.64, 3219.08]\n",
        "\n",
        "for n in gastos:\n",
        "  if n >= 3000:\n",
        "    ventas_arriba.append(n)\n",
        "\n",
        "total_arriba = sum(ventas_arriba)\n",
        "\n",
        "\n",
        "total = sum(gastos)\n",
        "\n",
        "porcentaje_compras = (total_arriba/total)*100\n",
        "print(\"\\tHubo un total de {} ventas arriba de 3K,lo\\n\\t que represeneta un % {} del total\".format(len(ventas_arriba),round(porcentaje_compras,2)))\n",
        "\n",
        ""
      ],
      "metadata": {
        "colab": {
          "base_uri": "https://localhost:8080/"
        },
        "id": "sgp5IYAVD8d4",
        "outputId": "a717d98e-cdea-4358-d3b2-bcc51b6c4c04"
      },
      "execution_count": 131,
      "outputs": [
        {
          "output_type": "stream",
          "name": "stdout",
          "text": [
            "\tHubo un total de 7 ventas arriba de 3K,lo\n",
            "\t que represeneta un % 76.68 del total\n"
          ]
        }
      ]
    },
    {
      "cell_type": "code",
      "source": [
        "#3 - Crea un código que recoja en una lista 5 números enteros aleatorios e imprima la lista. Ejemplo: [1, 4, 7, 2, 4].\n",
        "\n",
        "import random #Libreraria con  numeros random!\n",
        "\n",
        "numero_al = []\n",
        "\n",
        "for _ in range(5):\n",
        "  numero_gen = random.randint(1,100)\n",
        "  numero_al.append(numero_gen)\n",
        "  numero_al.sort(reverse=True)\n",
        "print(numero_al)\n",
        "\n"
      ],
      "metadata": {
        "colab": {
          "base_uri": "https://localhost:8080/"
        },
        "id": "VpySfnFyD8iL",
        "outputId": "0a3fd98e-ca4c-4728-b975-c6f3d13bd0d6"
      },
      "execution_count": 1,
      "outputs": [
        {
          "output_type": "stream",
          "name": "stdout",
          "text": [
            "[100, 73, 21, 9, 3]\n"
          ]
        }
      ]
    },
    {
      "cell_type": "code",
      "source": [
        "#4 - Recoge nuevamente 5 números enteros e imprime la lista en orden inverso al enviado.\n",
        "\n",
        "numero =[]\n",
        "\n",
        "for n in range(5):\n",
        "  x= int(input())\n",
        "  numero.append(x)\n",
        "\n",
        "numero.sort(reverse=True)\n",
        "print(numero)\n",
        "\n",
        "\n"
      ],
      "metadata": {
        "colab": {
          "base_uri": "https://localhost:8080/"
        },
        "id": "XYRG-sg5D8lo",
        "outputId": "495db9d0-8900-4f12-951b-b9c84e134ada"
      },
      "execution_count": 6,
      "outputs": [
        {
          "output_type": "stream",
          "name": "stdout",
          "text": [
            "1\n",
            "55\n",
            "99\n",
            "2\n",
            "-10\n",
            "[99, 55, 2, 1, -10]\n"
          ]
        }
      ]
    },
    {
      "cell_type": "code",
      "source": [
        "#5 - Crea un programa que, al ingresar un número cualquiera, genere\n",
        "# una lista que contenga todos los números primos entre 1 y el número ingresado.\n",
        "\n",
        "# Solicita el número al usuario\n",
        "limite = int(input(\"Ingresa un número: \"))\n",
        "\n",
        "# Lista para guardar los números primos\n",
        "primos = []\n",
        "\n",
        "# Recorre todos los números desde 2 hasta el límite\n",
        "for num in range(2, limite + 1):\n",
        "    es_primo = True\n",
        "    for i in range(2, int(num ** 0.5) + 1):\n",
        "        if num % i == 0:\n",
        "            es_primo = False\n",
        "            break\n",
        "    if es_primo:\n",
        "        primos.append(num)\n",
        "\n",
        "# Muestra la lista de números primos\n",
        "print(f\"Números primos entre 1 y {limite}:\")\n",
        "print(primos)\n",
        "\n",
        "\n",
        "\n",
        "\n",
        ""
      ],
      "metadata": {
        "colab": {
          "base_uri": "https://localhost:8080/"
        },
        "id": "7yEjHXnID8pe",
        "outputId": "a46b3e9b-6159-4d72-d7aa-0dee06c52408"
      },
      "execution_count": 20,
      "outputs": [
        {
          "output_type": "stream",
          "name": "stdout",
          "text": [
            "Ingresa un número: 45\n",
            "Números primos entre 1 y 45:\n",
            "[2, 3, 5, 7, 11, 13, 17, 19, 23, 29, 31, 37, 41, 43]\n"
          ]
        }
      ]
    },
    {
      "cell_type": "code",
      "source": [
        "#6 - Escribe un programa que pida una fecha, especificando el día, mes y año, y determine si es válida para su análisis.\n",
        "\n",
        "fecha = input(\"Favor de agregar una fecha en formaro dd/mm/yyyy: \")\n",
        "\n",
        "\n"
      ],
      "metadata": {
        "colab": {
          "base_uri": "https://localhost:8080/"
        },
        "id": "hVRt8iICD8si",
        "outputId": "8efd6aa7-75e7-434f-cb6d-af7ece154df3"
      },
      "execution_count": 21,
      "outputs": [
        {
          "name": "stdout",
          "output_type": "stream",
          "text": [
            "Favor de agregar una fecha en formaro dd/mm/yyyy: 10/20/2018\n"
          ]
        }
      ]
    },
    {
      "cell_type": "code",
      "source": [
        "# utiliza la siguiente ecuación: 100 * (muestra_actual - muestra_anterior) / muestra_anterior.\n",
        "#(muestra_actual - muestra_anterior) / muestra_anterior.\n",
        "\n",
        "muestra_total =  [1.2, 2.1, 3.3, 5.0, 7.8, 11.3, 16.6, 25.1, 37.8, 56.9]\n",
        "\n",
        "for n in range(1,len(muestra_total)):\n",
        "  x = muestra_total[n-1]\n",
        "  y = muestra_total[n]\n",
        "\n",
        "  promedio = 100* (y-x)/x\n",
        "\n",
        "\n",
        "  print(\"El promedio del dia {} es de {}%\".format(n,round(promedio,2)))\n",
        "\n",
        "\n",
        "\n",
        "\n",
        "\n",
        "\n",
        "\n",
        "\n",
        "\n",
        "\n",
        "\n",
        "\n",
        "\n",
        "\n",
        "\n",
        "\n",
        "\n",
        "\n",
        "\n",
        "\n",
        "\n",
        "\n",
        "\n",
        "\n",
        "\n",
        "\n",
        "\n",
        "\n",
        "\n",
        "\n",
        "\n"
      ],
      "metadata": {
        "colab": {
          "base_uri": "https://localhost:8080/"
        },
        "id": "fzJajTsGD8v-",
        "outputId": "3feea40f-28e3-40a3-b7f9-666f71364762"
      },
      "execution_count": 155,
      "outputs": [
        {
          "output_type": "stream",
          "name": "stdout",
          "text": [
            "El promedio del dia 1 es de 75.0%\n",
            "El promedio del dia 2 es de 57.14%\n",
            "El promedio del dia 3 es de 51.52%\n",
            "El promedio del dia 4 es de 56.0%\n",
            "El promedio del dia 5 es de 44.87%\n",
            "El promedio del dia 6 es de 46.9%\n",
            "El promedio del dia 7 es de 51.2%\n",
            "El promedio del dia 8 es de 50.6%\n",
            "El promedio del dia 9 es de 50.53%\n"
          ]
        }
      ]
    },
    {
      "cell_type": "code",
      "source": [
        "#8 - Para una selección de productos alimenticios, debemos separar el conjunto de IDs proporcionados por números enteros,\n",
        "# sabiendo que los productos con ID par son dulces y los que tienen ID impar son amargos.\n",
        "# Crea un código que recoja 10 IDs. Luego, calcula y muestra la cantidad de productos dulces y amargos.\n",
        "\n",
        "import random\n",
        "\n",
        "dulces = []\n",
        "amargos = []\n",
        "\n",
        "for n in range(1,11):\n",
        "  x = random.randrange(1,100)\n",
        "  if x%2 == 0:\n",
        "    dulces.append(x)\n",
        "  else:\n",
        "    amargos.append(x)\n",
        "\n",
        "print(\"{} son dulces\".format(dulces))\n",
        "print(\"{} son amargos\".format(amargos))\n",
        "\n",
        "\n",
        "\n",
        "\n",
        "\n",
        "\n",
        "\n"
      ],
      "metadata": {
        "colab": {
          "base_uri": "https://localhost:8080/"
        },
        "id": "0jTUoctZD8zH",
        "outputId": "7c19534f-edc2-4ee7-f700-e368d8fca513"
      },
      "execution_count": 9,
      "outputs": [
        {
          "output_type": "stream",
          "name": "stdout",
          "text": [
            "[92, 96, 68, 28, 40, 58] son dulces\n",
            "[27, 17, 53, 75] son amargos\n"
          ]
        }
      ]
    },
    {
      "cell_type": "code",
      "source": [
        "#9 - Desarrolla un programa que informe la puntuación de un estudiante de acuerdo con sus respuestas.\n",
        "#Debe pedir la respuesta del estudiante para cada pregunta\n",
        "#y verificar si la respuesta coincide con el resultado. Cada pregunta vale un punto y hay opciones A, B, C o D.\n",
        "\n",
        "# Resultado del examen:\n",
        "# 01 - D\n",
        "# 02 - A\n",
        "# 03 - C\n",
        "# 04 - B\n",
        "# 05 - A\n",
        "# 06 - D\n",
        "# 07 - C\n",
        "# 08 - C\n",
        "# 09 - A\n",
        "# 10 - B\n",
        "\n",
        "respuestas ={1:\"D\", 2:\"A\",3:\"C\",\n",
        "            4:\"B\",5:\"A\",6:\"D\",7:\"C\",\n",
        "            8:\"C\",9:\"A\",10:\"B\"}\n",
        "correctas = 0\n",
        "incorrectas = 0\n",
        "\n",
        "for n in range(1,11):\n",
        "  res_usuario =input(\"Cual es la respuesta de pregunta #{}: \".format(n)).upper()\n",
        "  if res_usuario == respuestas[n]:\n",
        "    correctas += 1\n",
        "  else:\n",
        "    incorrectas += 1\n",
        "\n",
        "califi = (correctas/10) *100\n",
        "print(\"Tuviste un total de: {} respuestas correctas\".format(correctas))\n",
        "print(\"Tuviste un total de: {} respuestas incorrectas\".format(incorrectas))\n",
        "print(\"Tu calificacion es de % {}\".format(califi))\n",
        "\n",
        "\n",
        "\n"
      ],
      "metadata": {
        "colab": {
          "base_uri": "https://localhost:8080/"
        },
        "id": "vgjJaMaL3d-j",
        "outputId": "3f848283-1d12-4e97-f2da-a60e2b0b6b9e"
      },
      "execution_count": 17,
      "outputs": [
        {
          "output_type": "stream",
          "name": "stdout",
          "text": [
            "Cual es la respuesta de pregunta #1: a\n",
            "Cual es la respuesta de pregunta #2: b\n",
            "Cual es la respuesta de pregunta #3: c\n",
            "Cual es la respuesta de pregunta #4: s\n",
            "Cual es la respuesta de pregunta #5: d\n",
            "Cual es la respuesta de pregunta #6: a\n",
            "Cual es la respuesta de pregunta #7: v\n",
            "Cual es la respuesta de pregunta #8: a\n",
            "Cual es la respuesta de pregunta #9: d\n",
            "Cual es la respuesta de pregunta #10: c\n",
            "Tuviste un total de: 1 respuestas correctas\n",
            "Tuviste un total de: 9 respuestas incorrectas\n",
            "Tu calificacion es de %10.0\n"
          ]
        }
      ]
    },
    {
      "cell_type": "code",
      "source": [],
      "metadata": {
        "id": "5YC2d0tb1ECC"
      },
      "execution_count": null,
      "outputs": []
    }
  ]
}